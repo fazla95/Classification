{
 "cells": [
  {
   "cell_type": "markdown",
   "id": "8f063c8e",
   "metadata": {},
   "source": [
    "# Classification"
   ]
  },
  {
   "cell_type": "code",
   "execution_count": 1,
   "id": "cf33ddc0",
   "metadata": {},
   "outputs": [],
   "source": [
    "import openml\n",
    "import pandas as pd\n",
    "import numpy as np\n",
    "from sklearn.metrics import accuracy_score, f1_score\n",
    "from sklearn.neighbors import KNeighborsClassifier\n",
    "from sklearn.linear_model import LogisticRegression\n",
    "from sklearn.ensemble import RandomForestClassifier, AdaBoostClassifier, GradientBoostingClassifier\n",
    "from sklearn.naive_bayes import GaussianNB\n",
    "from xgboost import XGBClassifier\n",
    "from sklearn.discriminant_analysis import LinearDiscriminantAnalysis as LDA\n",
    "from sklearn.svm import SVC\n",
    "from sklearn.model_selection import train_test_split, GridSearchCV\n",
    "from sklearn.preprocessing import LabelEncoder\n",
    "import time"
   ]
  },
  {
   "cell_type": "markdown",
   "id": "55fdde02",
   "metadata": {},
   "source": [
    "### Iris Dataset"
   ]
  },
  {
   "cell_type": "code",
   "execution_count": 2,
   "id": "26f9a9ce",
   "metadata": {},
   "outputs": [
    {
     "name": "stdout",
     "output_type": "stream",
     "text": [
      "['sepallength', 'sepalwidth', 'petallength', 'petalwidth'] [False, False, False, False]\n",
      "category\n",
      "sepallength    0\n",
      "sepalwidth     0\n",
      "petallength    0\n",
      "petalwidth     0\n",
      "dtype: int64 0\n"
     ]
    }
   ],
   "source": [
    "iris = openml.datasets.get_dataset(61)\n",
    "iris_x, iris_y, iris_cat_ind, iris_att_names = iris.get_data(\n",
    "    target = iris.default_target_attribute, \n",
    "    dataset_format=\"dataframe\"\n",
    ")\n",
    "print(iris_att_names, iris_cat_ind)\n",
    "print(iris_y.dtype)\n",
    "print(iris_x.isnull().sum(), iris_y.isnull().sum())"
   ]
  },
  {
   "cell_type": "code",
   "execution_count": 3,
   "id": "96b7a7be",
   "metadata": {},
   "outputs": [],
   "source": [
    "iris_x_nor = (iris_x-iris_x.min())/(iris_x.max()-iris_x.min())\n",
    "iris_y_num = LabelEncoder().fit_transform(iris_y)"
   ]
  },
  {
   "cell_type": "code",
   "execution_count": 4,
   "id": "ce37ae54",
   "metadata": {},
   "outputs": [],
   "source": [
    "iris_x_train, iris_x_test, iris_y_train, iris_y_test =  train_test_split(\n",
    "    iris_x_nor, \n",
    "    iris_y_num, \n",
    "    test_size = 0.3, \n",
    "    random_state = 42\n",
    ")"
   ]
  },
  {
   "cell_type": "markdown",
   "id": "3599f231",
   "metadata": {},
   "source": [
    "### Wine Dataset"
   ]
  },
  {
   "cell_type": "code",
   "execution_count": 5,
   "id": "1d61fbff",
   "metadata": {},
   "outputs": [
    {
     "name": "stdout",
     "output_type": "stream",
     "text": [
      "['Alcohol', 'Malic_acid', 'Ash', 'Alcalinity_of_ash', 'Magnesium', 'Total_phenols', 'Flavanoids', 'Nonflavanoid_phenols', 'Proanthocyanins', 'Color_intensity', 'Hue', 'OD280%2FOD315_of_diluted_wines', 'Proline'] [False, False, False, False, False, False, False, False, False, False, False, False, False]\n",
      "category\n",
      "Alcohol                           0\n",
      "Malic_acid                        0\n",
      "Ash                               0\n",
      "Alcalinity_of_ash                 0\n",
      "Magnesium                         0\n",
      "Total_phenols                     0\n",
      "Flavanoids                        0\n",
      "Nonflavanoid_phenols              0\n",
      "Proanthocyanins                   0\n",
      "Color_intensity                   0\n",
      "Hue                               0\n",
      "OD280%2FOD315_of_diluted_wines    0\n",
      "Proline                           0\n",
      "dtype: int64 0\n"
     ]
    }
   ],
   "source": [
    "wine = openml.datasets.get_dataset(187)\n",
    "wine_x, wine_y, wine_cat_ind, wine_att_names = wine.get_data(\n",
    "    target = wine.default_target_attribute, \n",
    "    dataset_format=\"dataframe\"\n",
    ")\n",
    "print(wine_att_names, wine_cat_ind)\n",
    "print(wine_y.dtype)\n",
    "print(wine_x.isnull().sum(), wine_y.isnull().sum())"
   ]
  },
  {
   "cell_type": "code",
   "execution_count": 6,
   "id": "9e868f14",
   "metadata": {},
   "outputs": [],
   "source": [
    "wine_x_nor = (wine_x-wine_x.min())/(wine_x.max()-wine_x.min())\n",
    "wine_y_num = LabelEncoder().fit_transform(wine_y)"
   ]
  },
  {
   "cell_type": "code",
   "execution_count": 7,
   "id": "ea3b611b",
   "metadata": {},
   "outputs": [],
   "source": [
    "wine_x_train, wine_x_test, wine_y_train, wine_y_test =  train_test_split(\n",
    "    wine_x_nor, \n",
    "    wine_y_num, \n",
    "    test_size = 0.3, \n",
    "    random_state = 42\n",
    ")"
   ]
  },
  {
   "cell_type": "markdown",
   "id": "7dc9d547",
   "metadata": {},
   "source": [
    "### Haberman Dataset"
   ]
  },
  {
   "cell_type": "code",
   "execution_count": 8,
   "id": "72122dda",
   "metadata": {},
   "outputs": [
    {
     "name": "stdout",
     "output_type": "stream",
     "text": [
      "['Age_of_patient_at_time_of_operation', 'Patients_year_of_operation', 'Number_of_positive_axillary_nodes_detected'] [False, True, False]\n",
      "category\n",
      "Age_of_patient_at_time_of_operation           0\n",
      "Patients_year_of_operation                    0\n",
      "Number_of_positive_axillary_nodes_detected    0\n",
      "dtype: int64 0\n"
     ]
    }
   ],
   "source": [
    "hman = openml.datasets.get_dataset(43)\n",
    "hman_x, hman_y, hman_cat_ind, hman_att_names = hman.get_data(\n",
    "    target = hman.default_target_attribute, \n",
    "    dataset_format=\"dataframe\")\n",
    "print(hman_att_names, hman_cat_ind)\n",
    "print(hman_y.dtype)\n",
    "print(hman_x.isnull().sum(), hman_y.isnull().sum())"
   ]
  },
  {
   "cell_type": "code",
   "execution_count": 9,
   "id": "97822020",
   "metadata": {},
   "outputs": [],
   "source": [
    "col = ['Age_of_patient_at_time_of_operation', 'Number_of_positive_axillary_nodes_detected']\n",
    "hman_x_nor = (hman_x[col]-hman_x[col].min())/(hman_x[col].max()-hman_x[col].min())\n",
    "hman_x_nor['Patients_year_of_operation'] = LabelEncoder().fit_transform(hman_x['Patients_year_of_operation'])"
   ]
  },
  {
   "cell_type": "code",
   "execution_count": 10,
   "id": "e65b1843",
   "metadata": {},
   "outputs": [],
   "source": [
    "hman_y_num = LabelEncoder().fit_transform(hman_y)"
   ]
  },
  {
   "cell_type": "code",
   "execution_count": 11,
   "id": "4ebfc6c6",
   "metadata": {},
   "outputs": [],
   "source": [
    "hman_x_train, hman_x_test, hman_y_train, hman_y_test =  train_test_split(\n",
    "    hman_x_nor, \n",
    "    hman_y_num, \n",
    "    test_size = 0.3, \n",
    "    random_state = 42\n",
    ")"
   ]
  },
  {
   "cell_type": "markdown",
   "id": "127a82bd",
   "metadata": {},
   "source": [
    "### Glass Dataset"
   ]
  },
  {
   "cell_type": "code",
   "execution_count": 12,
   "id": "a5919474",
   "metadata": {},
   "outputs": [
    {
     "name": "stdout",
     "output_type": "stream",
     "text": [
      "['RI', 'Na', 'Mg', 'Al', 'Si', 'K', 'Ca', 'Ba', 'Fe'] [False, False, False, False, False, False, False, False, False]\n",
      "category\n",
      "RI    0\n",
      "Na    0\n",
      "Mg    0\n",
      "Al    0\n",
      "Si    0\n",
      "K     0\n",
      "Ca    0\n",
      "Ba    0\n",
      "Fe    0\n",
      "dtype: int64 0\n"
     ]
    }
   ],
   "source": [
    "glass = openml.datasets.get_dataset(41)\n",
    "glass_x, glass_y, glass_cat_ind, glass_att_names = glass.get_data(\n",
    "    target = glass.default_target_attribute, \n",
    "    dataset_format=\"dataframe\")\n",
    "print(glass_att_names, glass_cat_ind)\n",
    "print(glass_y.dtype)\n",
    "print(glass_x.isnull().sum(), glass_y.isnull().sum())"
   ]
  },
  {
   "cell_type": "code",
   "execution_count": 13,
   "id": "21334c6f",
   "metadata": {},
   "outputs": [],
   "source": [
    "glass_x_nor = (glass_x-glass_x.min())/(glass_x.max()-glass_x.min())\n",
    "glass_y_num = LabelEncoder().fit_transform(glass_y)"
   ]
  },
  {
   "cell_type": "code",
   "execution_count": 14,
   "id": "2195d7b7",
   "metadata": {},
   "outputs": [],
   "source": [
    "glass_x_train, glass_x_test, glass_y_train, glass_y_test =  train_test_split(\n",
    "    glass_x_nor, \n",
    "    glass_y_num, \n",
    "    test_size = 0.3, \n",
    "    random_state = 42\n",
    ")"
   ]
  },
  {
   "cell_type": "markdown",
   "id": "0b541396",
   "metadata": {},
   "source": [
    "### Satellite Image Dataset"
   ]
  },
  {
   "cell_type": "code",
   "execution_count": 15,
   "id": "1c652cfb",
   "metadata": {},
   "outputs": [
    {
     "name": "stdout",
     "output_type": "stream",
     "text": [
      "['attr1', 'attr2', 'attr3', 'attr4', 'attr5', 'attr6', 'attr7', 'attr8', 'attr9', 'attr10', 'attr11', 'attr12', 'attr13', 'attr14', 'attr15', 'attr16', 'attr17', 'attr18', 'attr19', 'attr20', 'attr21', 'attr22', 'attr23', 'attr24', 'attr25', 'attr26', 'attr27', 'attr28', 'attr29', 'attr30', 'attr31', 'attr32', 'attr33', 'attr34', 'attr35', 'attr36'] [False, False, False, False, False, False, False, False, False, False, False, False, False, False, False, False, False, False, False, False, False, False, False, False, False, False, False, False, False, False, False, False, False, False, False, False]\n",
      "uint8\n",
      "attr1     0\n",
      "attr2     0\n",
      "attr3     0\n",
      "attr4     0\n",
      "attr5     0\n",
      "attr6     0\n",
      "attr7     0\n",
      "attr8     0\n",
      "attr9     0\n",
      "attr10    0\n",
      "attr11    0\n",
      "attr12    0\n",
      "attr13    0\n",
      "attr14    0\n",
      "attr15    0\n",
      "attr16    0\n",
      "attr17    0\n",
      "attr18    0\n",
      "attr19    0\n",
      "attr20    0\n",
      "attr21    0\n",
      "attr22    0\n",
      "attr23    0\n",
      "attr24    0\n",
      "attr25    0\n",
      "attr26    0\n",
      "attr27    0\n",
      "attr28    0\n",
      "attr29    0\n",
      "attr30    0\n",
      "attr31    0\n",
      "attr32    0\n",
      "attr33    0\n",
      "attr34    0\n",
      "attr35    0\n",
      "attr36    0\n",
      "dtype: int64\n",
      "0\n"
     ]
    }
   ],
   "source": [
    "simg = openml.datasets.get_dataset(294)\n",
    "simg_x, simg_y, simg_cat_ind, simg_att_names = simg.get_data(\n",
    "    target = simg.default_target_attribute, \n",
    "    dataset_format=\"dataframe\")\n",
    "print(simg_att_names, simg_cat_ind)\n",
    "print(simg_y.dtype)\n",
    "print(simg_x.isnull().sum())\n",
    "print(simg_y.isnull().sum())"
   ]
  },
  {
   "cell_type": "code",
   "execution_count": 16,
   "id": "59e73a6e",
   "metadata": {},
   "outputs": [],
   "source": [
    "simg_x_nor = (simg_x-simg_x.min())/(simg_x.max()-simg_x.min())\n",
    "simg_y_num = LabelEncoder().fit_transform(simg_y)"
   ]
  },
  {
   "cell_type": "code",
   "execution_count": 17,
   "id": "22a1a3dc",
   "metadata": {},
   "outputs": [],
   "source": [
    "simg_x_train, simg_x_test, simg_y_train, simg_y_test =  train_test_split(\n",
    "    simg_x_nor, \n",
    "    simg_y_num, \n",
    "    test_size = 0.3, \n",
    "    random_state = 42\n",
    ")"
   ]
  },
  {
   "cell_type": "markdown",
   "id": "a6140bec",
   "metadata": {},
   "source": [
    "### Libras Move Dataset"
   ]
  },
  {
   "cell_type": "code",
   "execution_count": 18,
   "id": "520f496f",
   "metadata": {},
   "outputs": [
    {
     "name": "stdout",
     "output_type": "stream",
     "text": [
      "['xcoord1', 'ycoord1', 'xcoord2', 'ycoord2', 'xcoord3', 'ycoord3', 'xcoord4', 'ycoord4', 'xcoord5', 'ycoord5', 'xcoord6', 'ycoord6', 'xcoord7', 'ycoord7', 'xcoord8', 'ycoord8', 'xcoord9', 'ycoord9', 'xcoord10', 'ycoord10', 'xcoord11', 'ycoord11', 'xcoord12', 'ycoord12', 'xcoord13', 'ycoord13', 'xcoord14', 'ycoord14', 'xcoord15', 'ycoord15', 'xcoord16', 'ycoord16', 'xcoord17', 'ycoord17', 'xcoord18', 'ycoord18', 'xcoord19', 'ycoord19', 'xcoord20', 'ycoord20', 'xcoord21', 'ycoord21', 'xcoord22', 'ycoord22', 'xcoord23', 'ycoord23', 'xcoord24', 'ycoord24', 'xcoord25', 'ycoord25', 'xcoord26', 'ycoord26', 'xcoord27', 'ycoord27', 'xcoord28', 'ycoord28', 'xcoord29', 'ycoord29', 'xcoord30', 'ycoord30', 'xcoord31', 'ycoord31', 'xcoord32', 'ycoord32', 'xcoord33', 'ycoord33', 'xcoord34', 'ycoord34', 'xcoord35', 'ycoord35', 'xcoord36', 'ycoord36', 'xcoord37', 'ycoord37', 'xcoord38', 'ycoord38', 'xcoord39', 'ycoord39', 'xcoord40', 'ycoord40', 'xcoord41', 'ycoord41', 'xcoord42', 'ycoord42', 'xcoord43', 'ycoord43', 'xcoord44', 'ycoord44', 'xcoord45', 'ycoord45'] [False, False, False, False, False, False, False, False, False, False, False, False, False, False, False, False, False, False, False, False, False, False, False, False, False, False, False, False, False, False, False, False, False, False, False, False, False, False, False, False, False, False, False, False, False, False, False, False, False, False, False, False, False, False, False, False, False, False, False, False, False, False, False, False, False, False, False, False, False, False, False, False, False, False, False, False, False, False, False, False, False, False, False, False, False, False, False, False, False, False]\n",
      "uint8\n",
      "0\n",
      "0\n"
     ]
    }
   ],
   "source": [
    "lm = openml.datasets.get_dataset(299)\n",
    "lm_x, lm_y, lm_cat_ind, lm_att_names = lm.get_data(\n",
    "    target = lm.default_target_attribute, \n",
    "    dataset_format=\"dataframe\")\n",
    "print(lm_att_names, lm_cat_ind)\n",
    "print(lm_y.dtype)\n",
    "print(lm_x.isnull().sum().sum())\n",
    "print(lm_y.isnull().sum())"
   ]
  },
  {
   "cell_type": "code",
   "execution_count": 19,
   "id": "204e9f41",
   "metadata": {},
   "outputs": [],
   "source": [
    "lm_x_nor = (lm_x-lm_x.min())/(lm_x.max()-lm_x.min())\n",
    "lm_y_num = LabelEncoder().fit_transform(lm_y)"
   ]
  },
  {
   "cell_type": "code",
   "execution_count": 20,
   "id": "b71aca3a",
   "metadata": {},
   "outputs": [],
   "source": [
    "lm_x_train, lm_x_test, lm_y_train, lm_y_test =  train_test_split(\n",
    "    lm_x_nor, \n",
    "    lm_y_num, \n",
    "    test_size = 0.3, \n",
    "    random_state = 42\n",
    ")"
   ]
  },
  {
   "cell_type": "code",
   "execution_count": null,
   "id": "3b114add",
   "metadata": {},
   "outputs": [],
   "source": []
  },
  {
   "cell_type": "code",
   "execution_count": 21,
   "id": "cfada09a",
   "metadata": {},
   "outputs": [],
   "source": [
    "Datasets = ['iris', 'wine', 'haberman', 'glass', 'satellite_image', 'libras_move']"
   ]
  },
  {
   "cell_type": "code",
   "execution_count": null,
   "id": "58f263f6",
   "metadata": {},
   "outputs": [],
   "source": []
  },
  {
   "cell_type": "markdown",
   "id": "247051e4",
   "metadata": {},
   "source": [
    "## K - Nearest Neighbors "
   ]
  },
  {
   "cell_type": "code",
   "execution_count": 22,
   "id": "93d9f612",
   "metadata": {},
   "outputs": [],
   "source": [
    "knn_par = {\n",
    "    'n_neighbors' : [3, 5, 7],\n",
    "    'weights' : ['uniform', 'distance'],\n",
    "    'p' : [1, 2]\n",
    "}"
   ]
  },
  {
   "cell_type": "code",
   "execution_count": 23,
   "id": "7f608376",
   "metadata": {},
   "outputs": [],
   "source": [
    "def knn (x_train, y_train, x_test, y_test, parameter) :\n",
    "    start_time = time.time()\n",
    "    KNN = KNeighborsClassifier()\n",
    "    knn_grid = GridSearchCV(KNN, parameter, refit = True, n_jobs=-1, cv=5)\n",
    "    knn_grid.fit(x_train, y_train)\n",
    "    opt_par = knn_grid.best_params_\n",
    "    pred = knn_grid.predict(x_test)\n",
    "    accuracy = accuracy_score (y_test, pred)\n",
    "    f1score = f1_score(y_test, pred, average = 'weighted')\n",
    "    execution_time = time.time() - start_time\n",
    "    return opt_par, pred, accuracy, f1score, execution_time"
   ]
  },
  {
   "cell_type": "code",
   "execution_count": 24,
   "id": "b4f2bc98",
   "metadata": {},
   "outputs": [],
   "source": [
    "iris_knn = knn(iris_x_train, iris_y_train, iris_x_test, iris_y_test, knn_par)"
   ]
  },
  {
   "cell_type": "code",
   "execution_count": 25,
   "id": "7f7ec639",
   "metadata": {},
   "outputs": [],
   "source": [
    "wine_knn = knn(wine_x_train, wine_y_train, wine_x_test, wine_y_test, knn_par)"
   ]
  },
  {
   "cell_type": "code",
   "execution_count": 26,
   "id": "5b606e16",
   "metadata": {},
   "outputs": [],
   "source": [
    "hman_knn = knn(hman_x_train, hman_y_train, hman_x_test, hman_y_test, knn_par)"
   ]
  },
  {
   "cell_type": "code",
   "execution_count": 27,
   "id": "f5afa167",
   "metadata": {},
   "outputs": [],
   "source": [
    "glass_knn = knn(glass_x_train, glass_y_train, glass_x_test, glass_y_test, knn_par)"
   ]
  },
  {
   "cell_type": "code",
   "execution_count": 28,
   "id": "78871c7c",
   "metadata": {},
   "outputs": [],
   "source": [
    "simg_knn = knn(simg_x_train, simg_y_train, simg_x_test, simg_y_test, knn_par)"
   ]
  },
  {
   "cell_type": "code",
   "execution_count": 29,
   "id": "57777011",
   "metadata": {},
   "outputs": [],
   "source": [
    "lm_knn = knn(lm_x_train, lm_y_train, lm_x_test, lm_y_test, knn_par)"
   ]
  },
  {
   "cell_type": "code",
   "execution_count": 30,
   "id": "cd453647",
   "metadata": {},
   "outputs": [],
   "source": [
    "knn_results = [iris_knn, wine_knn, hman_knn, glass_knn, simg_knn, lm_knn]"
   ]
  },
  {
   "cell_type": "code",
   "execution_count": 31,
   "id": "f1453599",
   "metadata": {},
   "outputs": [],
   "source": [
    "knn_df = pd.DataFrame({\n",
    "    'Datasets' : [],\n",
    "    'Best Parameters' : [],\n",
    "    'Accuracy' : [],\n",
    "    'f1 Score' : [],\n",
    "    'Execution Time' : []\n",
    "})"
   ]
  },
  {
   "cell_type": "code",
   "execution_count": 32,
   "id": "9126d613",
   "metadata": {},
   "outputs": [],
   "source": [
    "for i in range(0, len(knn_results)):\n",
    "    knn_df = knn_df.append({\n",
    "        'Datasets' : Datasets[i],\n",
    "        'Best Parameters' : knn_results[i][0],\n",
    "        'Accuracy' : knn_results[i][2],\n",
    "        'f1 Score' : knn_results[i][3],\n",
    "        'Execution Time' : knn_results[i][4]\n",
    "    }, ignore_index = True\n",
    "    )"
   ]
  },
  {
   "cell_type": "code",
   "execution_count": 33,
   "id": "b949feec",
   "metadata": {},
   "outputs": [
    {
     "data": {
      "text/html": [
       "<div>\n",
       "<style scoped>\n",
       "    .dataframe tbody tr th:only-of-type {\n",
       "        vertical-align: middle;\n",
       "    }\n",
       "\n",
       "    .dataframe tbody tr th {\n",
       "        vertical-align: top;\n",
       "    }\n",
       "\n",
       "    .dataframe thead th {\n",
       "        text-align: right;\n",
       "    }\n",
       "</style>\n",
       "<table border=\"1\" class=\"dataframe\">\n",
       "  <thead>\n",
       "    <tr style=\"text-align: right;\">\n",
       "      <th></th>\n",
       "      <th>Datasets</th>\n",
       "      <th>Best Parameters</th>\n",
       "      <th>Accuracy</th>\n",
       "      <th>f1 Score</th>\n",
       "      <th>Execution Time</th>\n",
       "    </tr>\n",
       "  </thead>\n",
       "  <tbody>\n",
       "    <tr>\n",
       "      <th>0</th>\n",
       "      <td>iris</td>\n",
       "      <td>{'n_neighbors': 7, 'p': 1, 'weights': 'uniform'}</td>\n",
       "      <td>1.000000</td>\n",
       "      <td>1.000000</td>\n",
       "      <td>7.157332</td>\n",
       "    </tr>\n",
       "    <tr>\n",
       "      <th>1</th>\n",
       "      <td>wine</td>\n",
       "      <td>{'n_neighbors': 5, 'p': 1, 'weights': 'uniform'}</td>\n",
       "      <td>0.944444</td>\n",
       "      <td>0.943780</td>\n",
       "      <td>0.453321</td>\n",
       "    </tr>\n",
       "    <tr>\n",
       "      <th>2</th>\n",
       "      <td>haberman</td>\n",
       "      <td>{'n_neighbors': 7, 'p': 1, 'weights': 'uniform'}</td>\n",
       "      <td>0.717391</td>\n",
       "      <td>0.647669</td>\n",
       "      <td>0.411791</td>\n",
       "    </tr>\n",
       "    <tr>\n",
       "      <th>3</th>\n",
       "      <td>glass</td>\n",
       "      <td>{'n_neighbors': 7, 'p': 1, 'weights': 'distance'}</td>\n",
       "      <td>0.738462</td>\n",
       "      <td>0.720334</td>\n",
       "      <td>0.402285</td>\n",
       "    </tr>\n",
       "    <tr>\n",
       "      <th>4</th>\n",
       "      <td>satellite_image</td>\n",
       "      <td>{'n_neighbors': 5, 'p': 2, 'weights': 'distance'}</td>\n",
       "      <td>0.902123</td>\n",
       "      <td>0.902812</td>\n",
       "      <td>8.310320</td>\n",
       "    </tr>\n",
       "    <tr>\n",
       "      <th>5</th>\n",
       "      <td>libras_move</td>\n",
       "      <td>{'n_neighbors': 3, 'p': 2, 'weights': 'distance'}</td>\n",
       "      <td>0.842593</td>\n",
       "      <td>0.837243</td>\n",
       "      <td>0.665472</td>\n",
       "    </tr>\n",
       "  </tbody>\n",
       "</table>\n",
       "</div>"
      ],
      "text/plain": [
       "          Datasets                                    Best Parameters  \\\n",
       "0             iris   {'n_neighbors': 7, 'p': 1, 'weights': 'uniform'}   \n",
       "1             wine   {'n_neighbors': 5, 'p': 1, 'weights': 'uniform'}   \n",
       "2         haberman   {'n_neighbors': 7, 'p': 1, 'weights': 'uniform'}   \n",
       "3            glass  {'n_neighbors': 7, 'p': 1, 'weights': 'distance'}   \n",
       "4  satellite_image  {'n_neighbors': 5, 'p': 2, 'weights': 'distance'}   \n",
       "5      libras_move  {'n_neighbors': 3, 'p': 2, 'weights': 'distance'}   \n",
       "\n",
       "   Accuracy  f1 Score  Execution Time  \n",
       "0  1.000000  1.000000        7.157332  \n",
       "1  0.944444  0.943780        0.453321  \n",
       "2  0.717391  0.647669        0.411791  \n",
       "3  0.738462  0.720334        0.402285  \n",
       "4  0.902123  0.902812        8.310320  \n",
       "5  0.842593  0.837243        0.665472  "
      ]
     },
     "execution_count": 33,
     "metadata": {},
     "output_type": "execute_result"
    }
   ],
   "source": [
    "knn_df"
   ]
  },
  {
   "cell_type": "code",
   "execution_count": 34,
   "id": "b197d9d1",
   "metadata": {},
   "outputs": [],
   "source": [
    "knn_df.to_csv('KNN_Results.csv')"
   ]
  },
  {
   "cell_type": "code",
   "execution_count": null,
   "id": "000659f2",
   "metadata": {},
   "outputs": [],
   "source": []
  },
  {
   "cell_type": "markdown",
   "id": "63e1fea2",
   "metadata": {},
   "source": [
    "## Logistic Regression"
   ]
  },
  {
   "cell_type": "code",
   "execution_count": 34,
   "id": "e3e1bd54",
   "metadata": {},
   "outputs": [],
   "source": [
    "lr_par = {\n",
    "    'penalty' : ['l2'],\n",
    "    'C' : [0.1, 1.0, 10.0],\n",
    "    'solver' : ['newton-cg', 'lbfgs', 'sag', 'saga'],\n",
    "    'max_iter' : [100, 200, 300]\n",
    "}"
   ]
  },
  {
   "cell_type": "code",
   "execution_count": 35,
   "id": "87d11cb5",
   "metadata": {},
   "outputs": [],
   "source": [
    "def lr (x_train, y_train, x_test, y_test, parameter) :\n",
    "    start_time = time.time()\n",
    "    LR = LogisticRegression()\n",
    "    lr_grid = GridSearchCV(LR, parameter, refit = True, n_jobs=-1, cv=5)\n",
    "    lr_grid.fit(x_train, y_train)\n",
    "    opt_par = lr_grid.best_params_\n",
    "    pred = lr_grid.predict(x_test)\n",
    "    accuracy = accuracy_score (y_test, pred)\n",
    "    f1score = f1_score(y_test, pred, average = 'weighted')\n",
    "    execution_time = time.time() - start_time\n",
    "    return opt_par, pred, accuracy, f1score, execution_time"
   ]
  },
  {
   "cell_type": "code",
   "execution_count": 36,
   "id": "22152086",
   "metadata": {},
   "outputs": [],
   "source": [
    "iris_lr = lr(iris_x_train, iris_y_train, iris_x_test, iris_y_test, lr_par)"
   ]
  },
  {
   "cell_type": "code",
   "execution_count": 37,
   "id": "3323ab0e",
   "metadata": {},
   "outputs": [],
   "source": [
    "wine_lr = lr(wine_x_train, wine_y_train, wine_x_test, wine_y_test, lr_par)"
   ]
  },
  {
   "cell_type": "code",
   "execution_count": 38,
   "id": "80dffc78",
   "metadata": {},
   "outputs": [],
   "source": [
    "hman_lr = lr(hman_x_train, hman_y_train, hman_x_test, hman_y_test, lr_par)"
   ]
  },
  {
   "cell_type": "code",
   "execution_count": 39,
   "id": "66539006",
   "metadata": {},
   "outputs": [],
   "source": [
    "glass_lr = lr(glass_x_train, glass_y_train, glass_x_test, glass_y_test, lr_par)"
   ]
  },
  {
   "cell_type": "code",
   "execution_count": 40,
   "id": "5a53186b",
   "metadata": {},
   "outputs": [
    {
     "name": "stderr",
     "output_type": "stream",
     "text": [
      "C:\\Anaconda\\lib\\site-packages\\sklearn\\linear_model\\_sag.py:328: ConvergenceWarning: The max_iter was reached which means the coef_ did not converge\n",
      "  warnings.warn(\"The max_iter was reached which means \"\n"
     ]
    }
   ],
   "source": [
    "simg_lr = lr(simg_x_train, simg_y_train, simg_x_test, simg_y_test, lr_par)"
   ]
  },
  {
   "cell_type": "code",
   "execution_count": 41,
   "id": "63ef0f33",
   "metadata": {},
   "outputs": [
    {
     "name": "stderr",
     "output_type": "stream",
     "text": [
      "C:\\Anaconda\\lib\\site-packages\\sklearn\\linear_model\\_sag.py:328: ConvergenceWarning: The max_iter was reached which means the coef_ did not converge\n",
      "  warnings.warn(\"The max_iter was reached which means \"\n"
     ]
    }
   ],
   "source": [
    "lm_lr = lr(lm_x_train, lm_y_train, lm_x_test, lm_y_test, lr_par)"
   ]
  },
  {
   "cell_type": "code",
   "execution_count": 42,
   "id": "efdf23af",
   "metadata": {},
   "outputs": [],
   "source": [
    "lr_results = [iris_lr, wine_lr, hman_lr, glass_lr, simg_lr, lm_lr]"
   ]
  },
  {
   "cell_type": "code",
   "execution_count": 43,
   "id": "3fed2571",
   "metadata": {},
   "outputs": [],
   "source": [
    "lr_df = pd.DataFrame({\n",
    "    'Datasets' : [],\n",
    "    'Best Parameters' : [],\n",
    "    'Accuracy' : [],\n",
    "    'f1 Score' : [],\n",
    "    'Execution Time' : []\n",
    "})"
   ]
  },
  {
   "cell_type": "code",
   "execution_count": 44,
   "id": "598be2ed",
   "metadata": {},
   "outputs": [],
   "source": [
    "for i in range(0, len(lr_results)):\n",
    "    lr_df = lr_df.append({\n",
    "        'Datasets' : Datasets[i],\n",
    "        'Best Parameters' : lr_results[i][0],\n",
    "        'Accuracy' : lr_results[i][2],\n",
    "        'f1 Score' : lr_results[i][3],\n",
    "        'Execution Time' : lr_results[i][4]\n",
    "    }, ignore_index = True\n",
    "    )"
   ]
  },
  {
   "cell_type": "code",
   "execution_count": 45,
   "id": "7c246bc8",
   "metadata": {},
   "outputs": [
    {
     "data": {
      "text/html": [
       "<div>\n",
       "<style scoped>\n",
       "    .dataframe tbody tr th:only-of-type {\n",
       "        vertical-align: middle;\n",
       "    }\n",
       "\n",
       "    .dataframe tbody tr th {\n",
       "        vertical-align: top;\n",
       "    }\n",
       "\n",
       "    .dataframe thead th {\n",
       "        text-align: right;\n",
       "    }\n",
       "</style>\n",
       "<table border=\"1\" class=\"dataframe\">\n",
       "  <thead>\n",
       "    <tr style=\"text-align: right;\">\n",
       "      <th></th>\n",
       "      <th>Datasets</th>\n",
       "      <th>Best Parameters</th>\n",
       "      <th>Accuracy</th>\n",
       "      <th>f1 Score</th>\n",
       "      <th>Execution Time</th>\n",
       "    </tr>\n",
       "  </thead>\n",
       "  <tbody>\n",
       "    <tr>\n",
       "      <th>0</th>\n",
       "      <td>iris</td>\n",
       "      <td>{'C': 1.0, 'max_iter': 100, 'penalty': 'l2', '...</td>\n",
       "      <td>0.911111</td>\n",
       "      <td>0.908956</td>\n",
       "      <td>1.876832</td>\n",
       "    </tr>\n",
       "    <tr>\n",
       "      <th>1</th>\n",
       "      <td>wine</td>\n",
       "      <td>{'C': 10.0, 'max_iter': 100, 'penalty': 'l2', ...</td>\n",
       "      <td>0.981481</td>\n",
       "      <td>0.981575</td>\n",
       "      <td>1.728228</td>\n",
       "    </tr>\n",
       "    <tr>\n",
       "      <th>2</th>\n",
       "      <td>haberman</td>\n",
       "      <td>{'C': 10.0, 'max_iter': 100, 'penalty': 'l2', ...</td>\n",
       "      <td>0.739130</td>\n",
       "      <td>0.685729</td>\n",
       "      <td>1.715718</td>\n",
       "    </tr>\n",
       "    <tr>\n",
       "      <th>3</th>\n",
       "      <td>glass</td>\n",
       "      <td>{'C': 10.0, 'max_iter': 100, 'penalty': 'l2', ...</td>\n",
       "      <td>0.584615</td>\n",
       "      <td>0.559651</td>\n",
       "      <td>2.157548</td>\n",
       "    </tr>\n",
       "    <tr>\n",
       "      <th>4</th>\n",
       "      <td>satellite_image</td>\n",
       "      <td>{'C': 10.0, 'max_iter': 100, 'penalty': 'l2', ...</td>\n",
       "      <td>0.847229</td>\n",
       "      <td>0.838940</td>\n",
       "      <td>68.162218</td>\n",
       "    </tr>\n",
       "    <tr>\n",
       "      <th>5</th>\n",
       "      <td>libras_move</td>\n",
       "      <td>{'C': 10.0, 'max_iter': 200, 'penalty': 'l2', ...</td>\n",
       "      <td>0.740741</td>\n",
       "      <td>0.734748</td>\n",
       "      <td>33.771809</td>\n",
       "    </tr>\n",
       "  </tbody>\n",
       "</table>\n",
       "</div>"
      ],
      "text/plain": [
       "          Datasets                                    Best Parameters  \\\n",
       "0             iris  {'C': 1.0, 'max_iter': 100, 'penalty': 'l2', '...   \n",
       "1             wine  {'C': 10.0, 'max_iter': 100, 'penalty': 'l2', ...   \n",
       "2         haberman  {'C': 10.0, 'max_iter': 100, 'penalty': 'l2', ...   \n",
       "3            glass  {'C': 10.0, 'max_iter': 100, 'penalty': 'l2', ...   \n",
       "4  satellite_image  {'C': 10.0, 'max_iter': 100, 'penalty': 'l2', ...   \n",
       "5      libras_move  {'C': 10.0, 'max_iter': 200, 'penalty': 'l2', ...   \n",
       "\n",
       "   Accuracy  f1 Score  Execution Time  \n",
       "0  0.911111  0.908956        1.876832  \n",
       "1  0.981481  0.981575        1.728228  \n",
       "2  0.739130  0.685729        1.715718  \n",
       "3  0.584615  0.559651        2.157548  \n",
       "4  0.847229  0.838940       68.162218  \n",
       "5  0.740741  0.734748       33.771809  "
      ]
     },
     "execution_count": 45,
     "metadata": {},
     "output_type": "execute_result"
    }
   ],
   "source": [
    "lr_df"
   ]
  },
  {
   "cell_type": "code",
   "execution_count": 63,
   "id": "6b7a902f",
   "metadata": {},
   "outputs": [],
   "source": [
    "lr_df.to_csv('LR_Results.csv')"
   ]
  },
  {
   "cell_type": "code",
   "execution_count": null,
   "id": "ff589b80",
   "metadata": {},
   "outputs": [],
   "source": []
  },
  {
   "cell_type": "markdown",
   "id": "753fcd7f",
   "metadata": {},
   "source": [
    "## Random Forest"
   ]
  },
  {
   "cell_type": "code",
   "execution_count": 22,
   "id": "864c9605",
   "metadata": {},
   "outputs": [],
   "source": [
    "rf_par = {\n",
    "    'n_estimators' : [10, 30, 50],\n",
    "    'criterion' : ['gini', 'entropy'],\n",
    "    'max_depth' : [5, 10, 20],\n",
    "    'min_samples_split' : [5, 8],\n",
    "    'min_samples_leaf' : [2, 3, 5],\n",
    "    'max_features' : ['sqrt', 'log2']\n",
    "}"
   ]
  },
  {
   "cell_type": "code",
   "execution_count": 23,
   "id": "c0739abe",
   "metadata": {},
   "outputs": [],
   "source": [
    "def rf (x_train, y_train, x_test, y_test, parameter) :\n",
    "    start_time = time.time()\n",
    "    RF = RandomForestClassifier()\n",
    "    rf_grid = GridSearchCV(RF, parameter, refit = True, n_jobs=-1, cv=5)\n",
    "    rf_grid.fit(x_train, y_train)\n",
    "    opt_par = rf_grid.best_params_\n",
    "    pred = rf_grid.predict(x_test)\n",
    "    accuracy = accuracy_score (y_test, pred)\n",
    "    f1score = f1_score(y_test, pred, average = 'weighted')\n",
    "    execution_time = time.time() - start_time\n",
    "    return opt_par, pred, accuracy, f1score, execution_time"
   ]
  },
  {
   "cell_type": "code",
   "execution_count": 24,
   "id": "9328d544",
   "metadata": {},
   "outputs": [],
   "source": [
    "iris_rf = rf(iris_x_train, iris_y_train, iris_x_test, iris_y_test, rf_par)"
   ]
  },
  {
   "cell_type": "code",
   "execution_count": 25,
   "id": "10104eec",
   "metadata": {},
   "outputs": [],
   "source": [
    "wine_rf = rf(wine_x_train, wine_y_train, wine_x_test, wine_y_test, rf_par)"
   ]
  },
  {
   "cell_type": "code",
   "execution_count": 26,
   "id": "b1d52f81",
   "metadata": {},
   "outputs": [],
   "source": [
    "hman_rf = rf(hman_x_train, hman_y_train, hman_x_test, hman_y_test, rf_par)"
   ]
  },
  {
   "cell_type": "code",
   "execution_count": 27,
   "id": "0498c3f8",
   "metadata": {},
   "outputs": [],
   "source": [
    "glass_rf = rf(glass_x_train, glass_y_train, glass_x_test, glass_y_test, rf_par)"
   ]
  },
  {
   "cell_type": "code",
   "execution_count": 28,
   "id": "8e45785e",
   "metadata": {},
   "outputs": [],
   "source": [
    "simg_rf = rf(simg_x_train, simg_y_train, simg_x_test, simg_y_test, rf_par)"
   ]
  },
  {
   "cell_type": "code",
   "execution_count": 29,
   "id": "d9f61853",
   "metadata": {},
   "outputs": [],
   "source": [
    "lm_rf = rf(lm_x_train, lm_y_train, lm_x_test, lm_y_test, rf_par)"
   ]
  },
  {
   "cell_type": "code",
   "execution_count": 30,
   "id": "ed0afb57",
   "metadata": {},
   "outputs": [],
   "source": [
    "rf_results = [iris_rf, wine_rf, hman_rf, glass_rf, simg_rf, lm_rf]"
   ]
  },
  {
   "cell_type": "code",
   "execution_count": 31,
   "id": "b417120b",
   "metadata": {},
   "outputs": [],
   "source": [
    "rf_df = pd.DataFrame({\n",
    "    'Datasets' : [],\n",
    "    'Best Parameters' : [],\n",
    "    'Accuracy' : [],\n",
    "    'f1 Score' : [],\n",
    "    'Execution Time' : []\n",
    "})"
   ]
  },
  {
   "cell_type": "code",
   "execution_count": 32,
   "id": "90b0d473",
   "metadata": {},
   "outputs": [],
   "source": [
    "for i in range(0, len(rf_results)):\n",
    "    rf_df = rf_df.append({\n",
    "        'Datasets' : Datasets[i],\n",
    "        'Best Parameters' : rf_results[i][0],\n",
    "        'Accuracy' : rf_results[i][2],\n",
    "        'f1 Score' : rf_results[i][3],\n",
    "        'Execution Time' : rf_results[i][4]\n",
    "    }, ignore_index = True\n",
    "    )"
   ]
  },
  {
   "cell_type": "code",
   "execution_count": 33,
   "id": "d7060a95",
   "metadata": {},
   "outputs": [
    {
     "data": {
      "text/html": [
       "<div>\n",
       "<style scoped>\n",
       "    .dataframe tbody tr th:only-of-type {\n",
       "        vertical-align: middle;\n",
       "    }\n",
       "\n",
       "    .dataframe tbody tr th {\n",
       "        vertical-align: top;\n",
       "    }\n",
       "\n",
       "    .dataframe thead th {\n",
       "        text-align: right;\n",
       "    }\n",
       "</style>\n",
       "<table border=\"1\" class=\"dataframe\">\n",
       "  <thead>\n",
       "    <tr style=\"text-align: right;\">\n",
       "      <th></th>\n",
       "      <th>Datasets</th>\n",
       "      <th>Best Parameters</th>\n",
       "      <th>Accuracy</th>\n",
       "      <th>f1 Score</th>\n",
       "      <th>Execution Time</th>\n",
       "    </tr>\n",
       "  </thead>\n",
       "  <tbody>\n",
       "    <tr>\n",
       "      <th>0</th>\n",
       "      <td>iris</td>\n",
       "      <td>{'criterion': 'gini', 'max_depth': 5, 'max_fea...</td>\n",
       "      <td>1.000000</td>\n",
       "      <td>1.000000</td>\n",
       "      <td>56.670052</td>\n",
       "    </tr>\n",
       "    <tr>\n",
       "      <th>1</th>\n",
       "      <td>wine</td>\n",
       "      <td>{'criterion': 'entropy', 'max_depth': 5, 'max_...</td>\n",
       "      <td>0.981481</td>\n",
       "      <td>0.981575</td>\n",
       "      <td>51.132006</td>\n",
       "    </tr>\n",
       "    <tr>\n",
       "      <th>2</th>\n",
       "      <td>haberman</td>\n",
       "      <td>{'criterion': 'gini', 'max_depth': 5, 'max_fea...</td>\n",
       "      <td>0.717391</td>\n",
       "      <td>0.647669</td>\n",
       "      <td>51.681832</td>\n",
       "    </tr>\n",
       "    <tr>\n",
       "      <th>3</th>\n",
       "      <td>glass</td>\n",
       "      <td>{'criterion': 'gini', 'max_depth': 20, 'max_fe...</td>\n",
       "      <td>0.784615</td>\n",
       "      <td>0.782250</td>\n",
       "      <td>60.725462</td>\n",
       "    </tr>\n",
       "    <tr>\n",
       "      <th>4</th>\n",
       "      <td>satellite_image</td>\n",
       "      <td>{'criterion': 'entropy', 'max_depth': 20, 'max...</td>\n",
       "      <td>0.905748</td>\n",
       "      <td>0.903851</td>\n",
       "      <td>184.782552</td>\n",
       "    </tr>\n",
       "    <tr>\n",
       "      <th>5</th>\n",
       "      <td>libras_move</td>\n",
       "      <td>{'criterion': 'entropy', 'max_depth': 20, 'max...</td>\n",
       "      <td>0.796296</td>\n",
       "      <td>0.799120</td>\n",
       "      <td>76.898488</td>\n",
       "    </tr>\n",
       "  </tbody>\n",
       "</table>\n",
       "</div>"
      ],
      "text/plain": [
       "          Datasets                                    Best Parameters  \\\n",
       "0             iris  {'criterion': 'gini', 'max_depth': 5, 'max_fea...   \n",
       "1             wine  {'criterion': 'entropy', 'max_depth': 5, 'max_...   \n",
       "2         haberman  {'criterion': 'gini', 'max_depth': 5, 'max_fea...   \n",
       "3            glass  {'criterion': 'gini', 'max_depth': 20, 'max_fe...   \n",
       "4  satellite_image  {'criterion': 'entropy', 'max_depth': 20, 'max...   \n",
       "5      libras_move  {'criterion': 'entropy', 'max_depth': 20, 'max...   \n",
       "\n",
       "   Accuracy  f1 Score  Execution Time  \n",
       "0  1.000000  1.000000       56.670052  \n",
       "1  0.981481  0.981575       51.132006  \n",
       "2  0.717391  0.647669       51.681832  \n",
       "3  0.784615  0.782250       60.725462  \n",
       "4  0.905748  0.903851      184.782552  \n",
       "5  0.796296  0.799120       76.898488  "
      ]
     },
     "execution_count": 33,
     "metadata": {},
     "output_type": "execute_result"
    }
   ],
   "source": [
    "rf_df"
   ]
  },
  {
   "cell_type": "code",
   "execution_count": 34,
   "id": "43ad1594",
   "metadata": {},
   "outputs": [],
   "source": [
    "rf_df.to_csv('RF_Results.csv')"
   ]
  },
  {
   "cell_type": "code",
   "execution_count": null,
   "id": "6231306d",
   "metadata": {},
   "outputs": [],
   "source": []
  },
  {
   "cell_type": "markdown",
   "id": "2767bc4b",
   "metadata": {},
   "source": [
    "## Gaussian Naive Bayes"
   ]
  },
  {
   "cell_type": "code",
   "execution_count": 58,
   "id": "0c74c361",
   "metadata": {},
   "outputs": [],
   "source": [
    "gnb_par = {}"
   ]
  },
  {
   "cell_type": "code",
   "execution_count": 59,
   "id": "8683471f",
   "metadata": {},
   "outputs": [],
   "source": [
    "def gnb (x_train, y_train, x_test, y_test, parameter) :\n",
    "    start_time = time.time()\n",
    "    GNB = GaussianNB()\n",
    "    gnb_grid = GridSearchCV(GNB, parameter, refit = True, n_jobs=-1, cv=5)\n",
    "    gnb_grid.fit(x_train, y_train)\n",
    "    pred = gnb_grid.predict(x_test)\n",
    "    accuracy = accuracy_score (y_test, pred)\n",
    "    f1score = f1_score(y_test, pred, average = 'weighted')\n",
    "    execution_time = time.time() - start_time\n",
    "    return pred, accuracy, f1score, execution_time"
   ]
  },
  {
   "cell_type": "code",
   "execution_count": 60,
   "id": "168c1a98",
   "metadata": {},
   "outputs": [],
   "source": [
    "iris_gnb = gnb(iris_x_train, iris_y_train, iris_x_test, iris_y_test, gnb_par)"
   ]
  },
  {
   "cell_type": "code",
   "execution_count": 61,
   "id": "0a05b1d8",
   "metadata": {},
   "outputs": [],
   "source": [
    "wine_gnb = gnb(wine_x_train, wine_y_train, wine_x_test, wine_y_test, gnb_par)"
   ]
  },
  {
   "cell_type": "code",
   "execution_count": 62,
   "id": "2c43bc00",
   "metadata": {},
   "outputs": [],
   "source": [
    "glass_gnb = gnb(glass_x_train, glass_y_train, glass_x_test, glass_y_test, gnb_par)"
   ]
  },
  {
   "cell_type": "code",
   "execution_count": 63,
   "id": "157c19d0",
   "metadata": {},
   "outputs": [],
   "source": [
    "simg_gnb = gnb(simg_x_train, simg_y_train, simg_x_test, simg_y_test, gnb_par)"
   ]
  },
  {
   "cell_type": "code",
   "execution_count": 64,
   "id": "f7a15f7d",
   "metadata": {},
   "outputs": [],
   "source": [
    "lm_gnb = gnb(lm_x_train, lm_y_train, lm_x_test, lm_y_test, gnb_par)"
   ]
  },
  {
   "cell_type": "code",
   "execution_count": 65,
   "id": "0bf799f7",
   "metadata": {},
   "outputs": [],
   "source": [
    "gnb_results = [iris_gnb, wine_gnb, glass_gnb, simg_gnb, lm_gnb]"
   ]
  },
  {
   "cell_type": "code",
   "execution_count": 66,
   "id": "aa64ad1d",
   "metadata": {},
   "outputs": [],
   "source": [
    "gnb_df = pd.DataFrame({\n",
    "    'Datasets' : [],\n",
    "    'Accuracy' : [],\n",
    "    'f1 Score' : [],\n",
    "    'Execution Time' : []\n",
    "})"
   ]
  },
  {
   "cell_type": "code",
   "execution_count": 67,
   "id": "2760fe46",
   "metadata": {},
   "outputs": [],
   "source": [
    "Datasets_gnb = ['iris', 'wine', 'glass', 'satellite_image', 'libras_move']"
   ]
  },
  {
   "cell_type": "code",
   "execution_count": 68,
   "id": "8eb7bdcc",
   "metadata": {},
   "outputs": [],
   "source": [
    "for i in range(0, len(gnb_results)):\n",
    "    gnb_df = gnb_df.append({\n",
    "        'Datasets' : Datasets_gnb[i],\n",
    "        'Accuracy' : gnb_results[i][1],\n",
    "        'f1 Score' : gnb_results[i][2],\n",
    "        'Execution Time' : gnb_results[i][3]\n",
    "    }, ignore_index = True\n",
    "    )\n",
    "    "
   ]
  },
  {
   "cell_type": "code",
   "execution_count": 69,
   "id": "99e0253b",
   "metadata": {},
   "outputs": [
    {
     "data": {
      "text/html": [
       "<div>\n",
       "<style scoped>\n",
       "    .dataframe tbody tr th:only-of-type {\n",
       "        vertical-align: middle;\n",
       "    }\n",
       "\n",
       "    .dataframe tbody tr th {\n",
       "        vertical-align: top;\n",
       "    }\n",
       "\n",
       "    .dataframe thead th {\n",
       "        text-align: right;\n",
       "    }\n",
       "</style>\n",
       "<table border=\"1\" class=\"dataframe\">\n",
       "  <thead>\n",
       "    <tr style=\"text-align: right;\">\n",
       "      <th></th>\n",
       "      <th>Datasets</th>\n",
       "      <th>Accuracy</th>\n",
       "      <th>f1 Score</th>\n",
       "      <th>Execution Time</th>\n",
       "    </tr>\n",
       "  </thead>\n",
       "  <tbody>\n",
       "    <tr>\n",
       "      <th>0</th>\n",
       "      <td>iris</td>\n",
       "      <td>0.977778</td>\n",
       "      <td>0.977745</td>\n",
       "      <td>0.226160</td>\n",
       "    </tr>\n",
       "    <tr>\n",
       "      <th>1</th>\n",
       "      <td>wine</td>\n",
       "      <td>1.000000</td>\n",
       "      <td>1.000000</td>\n",
       "      <td>0.045032</td>\n",
       "    </tr>\n",
       "    <tr>\n",
       "      <th>2</th>\n",
       "      <td>glass</td>\n",
       "      <td>0.446154</td>\n",
       "      <td>0.422613</td>\n",
       "      <td>0.049018</td>\n",
       "    </tr>\n",
       "    <tr>\n",
       "      <th>3</th>\n",
       "      <td>satellite_image</td>\n",
       "      <td>0.791300</td>\n",
       "      <td>0.800472</td>\n",
       "      <td>0.305245</td>\n",
       "    </tr>\n",
       "    <tr>\n",
       "      <th>4</th>\n",
       "      <td>libras_move</td>\n",
       "      <td>0.601852</td>\n",
       "      <td>0.612932</td>\n",
       "      <td>0.068049</td>\n",
       "    </tr>\n",
       "  </tbody>\n",
       "</table>\n",
       "</div>"
      ],
      "text/plain": [
       "          Datasets  Accuracy  f1 Score  Execution Time\n",
       "0             iris  0.977778  0.977745        0.226160\n",
       "1             wine  1.000000  1.000000        0.045032\n",
       "2            glass  0.446154  0.422613        0.049018\n",
       "3  satellite_image  0.791300  0.800472        0.305245\n",
       "4      libras_move  0.601852  0.612932        0.068049"
      ]
     },
     "execution_count": 69,
     "metadata": {},
     "output_type": "execute_result"
    }
   ],
   "source": [
    "gnb_df"
   ]
  },
  {
   "cell_type": "code",
   "execution_count": 89,
   "id": "33847b74",
   "metadata": {},
   "outputs": [],
   "source": [
    "gnb_df.to_csv('GNB_Results.csv')"
   ]
  },
  {
   "cell_type": "code",
   "execution_count": null,
   "id": "ac75decd",
   "metadata": {},
   "outputs": [],
   "source": []
  },
  {
   "cell_type": "markdown",
   "id": "a1da878d",
   "metadata": {},
   "source": [
    "## XGBoost"
   ]
  },
  {
   "cell_type": "code",
   "execution_count": 79,
   "id": "40327c5b",
   "metadata": {},
   "outputs": [],
   "source": [
    "xgb_par = {\n",
    "    'n_estimators' : [10, 20, 50],\n",
    "    'objective' : ['multi:softprob', 'multi:softmax'],\n",
    "    'use_label_encoder' : [False],\n",
    "    'booster' : ['gbtree', 'gblinear', 'dart'],\n",
    "    'max_depth' : [8, 16, 32],\n",
    "    'learning_rate' : [0.02, 0.2]\n",
    "}"
   ]
  },
  {
   "cell_type": "code",
   "execution_count": 80,
   "id": "25663dbb",
   "metadata": {},
   "outputs": [],
   "source": [
    "def xgb (x_train, y_train, x_test, y_test, parameter) :\n",
    "    start_time = time.time()\n",
    "    XGB = XGBClassifier()\n",
    "    xgb_grid = GridSearchCV(XGB, parameter, refit = True, n_jobs=-1, cv=5)\n",
    "    xgb_grid.fit(x_train, y_train)\n",
    "    opt_par = xgb_grid.best_params_\n",
    "    pred = xgb_grid.predict(x_test)\n",
    "    accuracy = accuracy_score (y_test, pred)\n",
    "    f1score = f1_score(y_test, pred, average = 'weighted')\n",
    "    execution_time = time.time() - start_time\n",
    "    return opt_par, pred, accuracy, f1score, execution_time"
   ]
  },
  {
   "cell_type": "code",
   "execution_count": 81,
   "id": "88c1642d",
   "metadata": {},
   "outputs": [
    {
     "name": "stdout",
     "output_type": "stream",
     "text": [
      "[10:00:37] WARNING: C:/Users/Administrator/workspace/xgboost-win64_release_1.5.0/src/learner.cc:1115: Starting in XGBoost 1.3.0, the default evaluation metric used with the objective 'multi:softprob' was changed from 'merror' to 'mlogloss'. Explicitly set eval_metric if you'd like to restore the old behavior.\n"
     ]
    }
   ],
   "source": [
    "iris_xgb = xgb(iris_x_train, iris_y_train, iris_x_test, iris_y_test, xgb_par)"
   ]
  },
  {
   "cell_type": "code",
   "execution_count": 82,
   "id": "4db83a74",
   "metadata": {},
   "outputs": [
    {
     "name": "stdout",
     "output_type": "stream",
     "text": [
      "[10:06:51] WARNING: C:/Users/Administrator/workspace/xgboost-win64_release_1.5.0/src/learner.cc:1115: Starting in XGBoost 1.3.0, the default evaluation metric used with the objective 'multi:softprob' was changed from 'merror' to 'mlogloss'. Explicitly set eval_metric if you'd like to restore the old behavior.\n"
     ]
    }
   ],
   "source": [
    "wine_xgb = xgb(wine_x_train, wine_y_train, wine_x_test, wine_y_test, xgb_par)"
   ]
  },
  {
   "cell_type": "code",
   "execution_count": 85,
   "id": "66d87602",
   "metadata": {
    "scrolled": true
   },
   "outputs": [
    {
     "name": "stdout",
     "output_type": "stream",
     "text": [
      "[10:09:14] WARNING: C:/Users/Administrator/workspace/xgboost-win64_release_1.5.0/src/learner.cc:1115: Starting in XGBoost 1.3.0, the default evaluation metric used with the objective 'multi:softprob' was changed from 'merror' to 'mlogloss'. Explicitly set eval_metric if you'd like to restore the old behavior.\n"
     ]
    }
   ],
   "source": [
    "glass_xgb = xgb(glass_x_train, glass_y_train, glass_x_test, glass_y_test, xgb_par)"
   ]
  },
  {
   "cell_type": "code",
   "execution_count": 86,
   "id": "057d3bea",
   "metadata": {},
   "outputs": [
    {
     "name": "stdout",
     "output_type": "stream",
     "text": [
      "[10:20:01] WARNING: C:/Users/Administrator/workspace/xgboost-win64_release_1.5.0/src/learner.cc:1115: Starting in XGBoost 1.3.0, the default evaluation metric used with the objective 'multi:softprob' was changed from 'merror' to 'mlogloss'. Explicitly set eval_metric if you'd like to restore the old behavior.\n"
     ]
    }
   ],
   "source": [
    "simg_xgb = xgb(simg_x_train, simg_y_train, simg_x_test, simg_y_test, xgb_par)"
   ]
  },
  {
   "cell_type": "code",
   "execution_count": 87,
   "id": "2f5790e0",
   "metadata": {},
   "outputs": [
    {
     "name": "stdout",
     "output_type": "stream",
     "text": [
      "[10:24:26] WARNING: C:/Users/Administrator/workspace/xgboost-win64_release_1.5.0/src/learner.cc:576: \n",
      "Parameters: { \"max_depth\" } might not be used.\n",
      "\n",
      "  This could be a false alarm, with some parameters getting used by language bindings but\n",
      "  then being mistakenly passed down to XGBoost core, or some parameter actually being used\n",
      "  but getting flagged wrongly here. Please open an issue if you find any such cases.\n",
      "\n",
      "\n",
      "[10:24:26] WARNING: C:/Users/Administrator/workspace/xgboost-win64_release_1.5.0/src/learner.cc:1115: Starting in XGBoost 1.3.0, the default evaluation metric used with the objective 'multi:softprob' was changed from 'merror' to 'mlogloss'. Explicitly set eval_metric if you'd like to restore the old behavior.\n"
     ]
    }
   ],
   "source": [
    "lm_xgb = xgb(lm_x_train, lm_y_train, lm_x_test, lm_y_test, xgb_par)"
   ]
  },
  {
   "cell_type": "code",
   "execution_count": 88,
   "id": "81817234",
   "metadata": {},
   "outputs": [],
   "source": [
    "xgb_results = [iris_xgb, wine_xgb, glass_xgb, simg_xgb, lm_xgb]"
   ]
  },
  {
   "cell_type": "code",
   "execution_count": 89,
   "id": "7522275e",
   "metadata": {},
   "outputs": [],
   "source": [
    "xgb_df = pd.DataFrame({\n",
    "    'Datasets' : [],\n",
    "    'Best Parameters' : [],\n",
    "    'Accuracy' : [],\n",
    "    'f1 Score' : [],\n",
    "    'Execution Time' : []\n",
    "})"
   ]
  },
  {
   "cell_type": "code",
   "execution_count": 90,
   "id": "c694aeac",
   "metadata": {},
   "outputs": [],
   "source": [
    "for i in range(0, len(xgb_results)):\n",
    "    xgb_df = xgb_df.append({\n",
    "        'Datasets' : Datasets_gnb[i],\n",
    "        'Best Parameters' : xgb_results[i][0],\n",
    "        'Accuracy' : xgb_results[i][2],\n",
    "        'f1 Score' : xgb_results[i][3],\n",
    "        'Execution Time' : xgb_results[i][4]\n",
    "    }, ignore_index = True\n",
    "    )"
   ]
  },
  {
   "cell_type": "code",
   "execution_count": 91,
   "id": "7bab34a0",
   "metadata": {},
   "outputs": [
    {
     "data": {
      "text/html": [
       "<div>\n",
       "<style scoped>\n",
       "    .dataframe tbody tr th:only-of-type {\n",
       "        vertical-align: middle;\n",
       "    }\n",
       "\n",
       "    .dataframe tbody tr th {\n",
       "        vertical-align: top;\n",
       "    }\n",
       "\n",
       "    .dataframe thead th {\n",
       "        text-align: right;\n",
       "    }\n",
       "</style>\n",
       "<table border=\"1\" class=\"dataframe\">\n",
       "  <thead>\n",
       "    <tr style=\"text-align: right;\">\n",
       "      <th></th>\n",
       "      <th>Datasets</th>\n",
       "      <th>Best Parameters</th>\n",
       "      <th>Accuracy</th>\n",
       "      <th>f1 Score</th>\n",
       "      <th>Execution Time</th>\n",
       "    </tr>\n",
       "  </thead>\n",
       "  <tbody>\n",
       "    <tr>\n",
       "      <th>0</th>\n",
       "      <td>iris</td>\n",
       "      <td>{'booster': 'gbtree', 'learning_rate': 0.02, '...</td>\n",
       "      <td>1.000000</td>\n",
       "      <td>1.000000</td>\n",
       "      <td>10.607527</td>\n",
       "    </tr>\n",
       "    <tr>\n",
       "      <th>1</th>\n",
       "      <td>wine</td>\n",
       "      <td>{'booster': 'gbtree', 'learning_rate': 0.2, 'm...</td>\n",
       "      <td>0.962963</td>\n",
       "      <td>0.962857</td>\n",
       "      <td>25.708136</td>\n",
       "    </tr>\n",
       "    <tr>\n",
       "      <th>2</th>\n",
       "      <td>glass</td>\n",
       "      <td>{'booster': 'gbtree', 'learning_rate': 0.02, '...</td>\n",
       "      <td>0.738462</td>\n",
       "      <td>0.742867</td>\n",
       "      <td>24.428277</td>\n",
       "    </tr>\n",
       "    <tr>\n",
       "      <th>3</th>\n",
       "      <td>satellite_image</td>\n",
       "      <td>{'booster': 'gbtree', 'learning_rate': 0.2, 'm...</td>\n",
       "      <td>0.910409</td>\n",
       "      <td>0.909266</td>\n",
       "      <td>593.382874</td>\n",
       "    </tr>\n",
       "    <tr>\n",
       "      <th>4</th>\n",
       "      <td>libras_move</td>\n",
       "      <td>{'booster': 'gblinear', 'learning_rate': 0.2, ...</td>\n",
       "      <td>0.657407</td>\n",
       "      <td>0.647371</td>\n",
       "      <td>191.423967</td>\n",
       "    </tr>\n",
       "  </tbody>\n",
       "</table>\n",
       "</div>"
      ],
      "text/plain": [
       "          Datasets                                    Best Parameters  \\\n",
       "0             iris  {'booster': 'gbtree', 'learning_rate': 0.02, '...   \n",
       "1             wine  {'booster': 'gbtree', 'learning_rate': 0.2, 'm...   \n",
       "2            glass  {'booster': 'gbtree', 'learning_rate': 0.02, '...   \n",
       "3  satellite_image  {'booster': 'gbtree', 'learning_rate': 0.2, 'm...   \n",
       "4      libras_move  {'booster': 'gblinear', 'learning_rate': 0.2, ...   \n",
       "\n",
       "   Accuracy  f1 Score  Execution Time  \n",
       "0  1.000000  1.000000       10.607527  \n",
       "1  0.962963  0.962857       25.708136  \n",
       "2  0.738462  0.742867       24.428277  \n",
       "3  0.910409  0.909266      593.382874  \n",
       "4  0.657407  0.647371      191.423967  "
      ]
     },
     "execution_count": 91,
     "metadata": {},
     "output_type": "execute_result"
    }
   ],
   "source": [
    "xgb_df"
   ]
  },
  {
   "cell_type": "code",
   "execution_count": 93,
   "id": "38931ed0",
   "metadata": {},
   "outputs": [],
   "source": [
    "xgb_df.to_csv('XGB_Results.csv')"
   ]
  },
  {
   "cell_type": "code",
   "execution_count": null,
   "id": "1fa66832",
   "metadata": {},
   "outputs": [],
   "source": []
  },
  {
   "cell_type": "markdown",
   "id": "ec2394c5",
   "metadata": {},
   "source": [
    "## LDA"
   ]
  },
  {
   "cell_type": "code",
   "execution_count": 35,
   "id": "ae02836f",
   "metadata": {},
   "outputs": [],
   "source": [
    "lda_par = [\n",
    "    {\n",
    "        'solver' : ['svd'],\n",
    "        'shrinkage' : [ None]\n",
    "    },\n",
    "    {\n",
    "        'solver' : ['lsqr', 'eigen'],\n",
    "        'shrinkage' : [ None, 'auto']\n",
    "    }\n",
    "        ]"
   ]
  },
  {
   "cell_type": "code",
   "execution_count": 36,
   "id": "dfef4c58",
   "metadata": {},
   "outputs": [],
   "source": [
    "def lda (x_train, y_train, x_test, y_test, parameter) :\n",
    "    start_time = time.time()\n",
    "    LDA_ = LDA()\n",
    "    lda_grid = GridSearchCV(LDA_, parameter, refit = True, n_jobs=-1, cv=5)\n",
    "    lda_grid.fit(x_train, y_train)\n",
    "    opt_par = lda_grid.best_params_\n",
    "    pred = lda_grid.predict(x_test)\n",
    "    accuracy = accuracy_score (y_test, pred)\n",
    "    f1score = f1_score(y_test, pred, average = 'weighted')\n",
    "    execution_time = time.time() - start_time\n",
    "    return opt_par, pred, accuracy, f1score, execution_time"
   ]
  },
  {
   "cell_type": "code",
   "execution_count": 37,
   "id": "09821343",
   "metadata": {},
   "outputs": [],
   "source": [
    "iris_lda = lda(iris_x_train, iris_y_train, iris_x_test, iris_y_test, lda_par)"
   ]
  },
  {
   "cell_type": "code",
   "execution_count": 38,
   "id": "ae9ca5f0",
   "metadata": {},
   "outputs": [],
   "source": [
    "wine_lda = lda(wine_x_train, wine_y_train, wine_x_test, wine_y_test, lda_par)"
   ]
  },
  {
   "cell_type": "code",
   "execution_count": 39,
   "id": "7da2872b",
   "metadata": {},
   "outputs": [],
   "source": [
    "hman_lda = lda(hman_x_train, hman_y_train, hman_x_test, hman_y_test, lda_par)"
   ]
  },
  {
   "cell_type": "code",
   "execution_count": 40,
   "id": "032f050f",
   "metadata": {},
   "outputs": [],
   "source": [
    "glass_lda = lda(glass_x_train, glass_y_train, glass_x_test, glass_y_test, lda_par)"
   ]
  },
  {
   "cell_type": "code",
   "execution_count": 41,
   "id": "6139ae0e",
   "metadata": {},
   "outputs": [],
   "source": [
    "simg_lda = lda(simg_x_train, simg_y_train, simg_x_test, simg_y_test, lda_par)"
   ]
  },
  {
   "cell_type": "code",
   "execution_count": 42,
   "id": "ba2c189e",
   "metadata": {},
   "outputs": [],
   "source": [
    "lm_lda = lda(lm_x_train, lm_y_train, lm_x_test, lm_y_test, lda_par)"
   ]
  },
  {
   "cell_type": "code",
   "execution_count": 43,
   "id": "0474ce1a",
   "metadata": {},
   "outputs": [],
   "source": [
    "lda_results = [iris_lda, wine_lda, hman_lda, glass_lda, simg_lda, lm_lda]"
   ]
  },
  {
   "cell_type": "code",
   "execution_count": 44,
   "id": "185dd7c0",
   "metadata": {},
   "outputs": [],
   "source": [
    "lda_df = pd.DataFrame({\n",
    "    'Datasets' : [],\n",
    "    'Best Parameters' : [],\n",
    "    'Accuracy' : [],\n",
    "    'f1 Score' : [],\n",
    "    'Execution Time' : []\n",
    "})"
   ]
  },
  {
   "cell_type": "code",
   "execution_count": 45,
   "id": "68c55950",
   "metadata": {},
   "outputs": [],
   "source": [
    "for i in range(0, len(lda_results)):\n",
    "    lda_df = lda_df.append({\n",
    "        'Datasets' : Datasets[i],\n",
    "        'Best Parameters' : lda_results[i][0],\n",
    "        'Accuracy' : lda_results[i][2],\n",
    "        'f1 Score' : lda_results[i][3],\n",
    "        'Execution Time' : lda_results[i][4]\n",
    "    }, ignore_index = True\n",
    "    )"
   ]
  },
  {
   "cell_type": "code",
   "execution_count": 46,
   "id": "2796a001",
   "metadata": {},
   "outputs": [
    {
     "data": {
      "text/html": [
       "<div>\n",
       "<style scoped>\n",
       "    .dataframe tbody tr th:only-of-type {\n",
       "        vertical-align: middle;\n",
       "    }\n",
       "\n",
       "    .dataframe tbody tr th {\n",
       "        vertical-align: top;\n",
       "    }\n",
       "\n",
       "    .dataframe thead th {\n",
       "        text-align: right;\n",
       "    }\n",
       "</style>\n",
       "<table border=\"1\" class=\"dataframe\">\n",
       "  <thead>\n",
       "    <tr style=\"text-align: right;\">\n",
       "      <th></th>\n",
       "      <th>Datasets</th>\n",
       "      <th>Best Parameters</th>\n",
       "      <th>Accuracy</th>\n",
       "      <th>f1 Score</th>\n",
       "      <th>Execution Time</th>\n",
       "    </tr>\n",
       "  </thead>\n",
       "  <tbody>\n",
       "    <tr>\n",
       "      <th>0</th>\n",
       "      <td>iris</td>\n",
       "      <td>{'shrinkage': None, 'solver': 'svd'}</td>\n",
       "      <td>1.000000</td>\n",
       "      <td>1.000000</td>\n",
       "      <td>1.814790</td>\n",
       "    </tr>\n",
       "    <tr>\n",
       "      <th>1</th>\n",
       "      <td>wine</td>\n",
       "      <td>{'shrinkage': None, 'solver': 'svd'}</td>\n",
       "      <td>1.000000</td>\n",
       "      <td>1.000000</td>\n",
       "      <td>0.185135</td>\n",
       "    </tr>\n",
       "    <tr>\n",
       "      <th>2</th>\n",
       "      <td>haberman</td>\n",
       "      <td>{'shrinkage': None, 'solver': 'svd'}</td>\n",
       "      <td>0.739130</td>\n",
       "      <td>0.703583</td>\n",
       "      <td>0.308203</td>\n",
       "    </tr>\n",
       "    <tr>\n",
       "      <th>3</th>\n",
       "      <td>glass</td>\n",
       "      <td>{'shrinkage': 'auto', 'solver': 'lsqr'}</td>\n",
       "      <td>0.600000</td>\n",
       "      <td>0.576896</td>\n",
       "      <td>0.226166</td>\n",
       "    </tr>\n",
       "    <tr>\n",
       "      <th>4</th>\n",
       "      <td>satellite_image</td>\n",
       "      <td>{'shrinkage': 'auto', 'solver': 'lsqr'}</td>\n",
       "      <td>0.829622</td>\n",
       "      <td>0.821517</td>\n",
       "      <td>1.251000</td>\n",
       "    </tr>\n",
       "    <tr>\n",
       "      <th>5</th>\n",
       "      <td>libras_move</td>\n",
       "      <td>{'shrinkage': 'auto', 'solver': 'lsqr'}</td>\n",
       "      <td>0.694444</td>\n",
       "      <td>0.688528</td>\n",
       "      <td>0.700496</td>\n",
       "    </tr>\n",
       "  </tbody>\n",
       "</table>\n",
       "</div>"
      ],
      "text/plain": [
       "          Datasets                          Best Parameters  Accuracy  \\\n",
       "0             iris     {'shrinkage': None, 'solver': 'svd'}  1.000000   \n",
       "1             wine     {'shrinkage': None, 'solver': 'svd'}  1.000000   \n",
       "2         haberman     {'shrinkage': None, 'solver': 'svd'}  0.739130   \n",
       "3            glass  {'shrinkage': 'auto', 'solver': 'lsqr'}  0.600000   \n",
       "4  satellite_image  {'shrinkage': 'auto', 'solver': 'lsqr'}  0.829622   \n",
       "5      libras_move  {'shrinkage': 'auto', 'solver': 'lsqr'}  0.694444   \n",
       "\n",
       "   f1 Score  Execution Time  \n",
       "0  1.000000        1.814790  \n",
       "1  1.000000        0.185135  \n",
       "2  0.703583        0.308203  \n",
       "3  0.576896        0.226166  \n",
       "4  0.821517        1.251000  \n",
       "5  0.688528        0.700496  "
      ]
     },
     "execution_count": 46,
     "metadata": {},
     "output_type": "execute_result"
    }
   ],
   "source": [
    "lda_df"
   ]
  },
  {
   "cell_type": "code",
   "execution_count": 48,
   "id": "8d8e6140",
   "metadata": {},
   "outputs": [],
   "source": [
    "lda_df.to_csv('LDA_Results.csv')"
   ]
  },
  {
   "cell_type": "code",
   "execution_count": null,
   "id": "080a5b9f",
   "metadata": {},
   "outputs": [],
   "source": []
  },
  {
   "cell_type": "markdown",
   "id": "c7fbf92d",
   "metadata": {},
   "source": [
    "## SVM"
   ]
  },
  {
   "cell_type": "code",
   "execution_count": 49,
   "id": "406409f0",
   "metadata": {},
   "outputs": [],
   "source": [
    "svm_par = [\n",
    "   { 'C' : [0.1, 1.0, 10.0],\n",
    "    'kernel' : ['linear']\n",
    "   },\n",
    "   { 'C' : [0.1, 1.0, 10.0],\n",
    "    'kernel' : ['poly'],\n",
    "    'degree' : [2, 3, 4],\n",
    "    'gamma' : ['scale', 'auto']\n",
    "   },\n",
    "   { 'C' : [0.1, 1.0, 10.0],\n",
    "    'kernel' : ['rbf', 'sigmoid'],\n",
    "    'gamma' : ['scale', 'auto']\n",
    "    }\n",
    "]"
   ]
  },
  {
   "cell_type": "code",
   "execution_count": 51,
   "id": "c7664ca6",
   "metadata": {},
   "outputs": [],
   "source": [
    "def svm (x_train, y_train, x_test, y_test, parameter) :\n",
    "    start_time = time.time()\n",
    "    SVM = SVC()\n",
    "    svm_grid = GridSearchCV(SVM, parameter, refit = True, n_jobs=-1, cv=5)\n",
    "    svm_grid.fit(x_train, y_train)\n",
    "    opt_par = svm_grid.best_params_\n",
    "    pred = svm_grid.predict(x_test)\n",
    "    accuracy = accuracy_score (y_test, pred)\n",
    "    f1score = f1_score(y_test, pred, average = 'weighted')\n",
    "    execution_time = time.time() - start_time\n",
    "    return opt_par, pred, accuracy, f1score, execution_time"
   ]
  },
  {
   "cell_type": "code",
   "execution_count": 52,
   "id": "bcab2f3b",
   "metadata": {},
   "outputs": [],
   "source": [
    "iris_svm = svm(iris_x_train, iris_y_train, iris_x_test, iris_y_test, svm_par)"
   ]
  },
  {
   "cell_type": "code",
   "execution_count": 53,
   "id": "71906063",
   "metadata": {},
   "outputs": [],
   "source": [
    "wine_svm = svm(wine_x_train, wine_y_train, wine_x_test, wine_y_test, svm_par)"
   ]
  },
  {
   "cell_type": "code",
   "execution_count": 54,
   "id": "8d444953",
   "metadata": {},
   "outputs": [],
   "source": [
    "hman_svm = svm(hman_x_train, hman_y_train, hman_x_test, hman_y_test, svm_par)"
   ]
  },
  {
   "cell_type": "code",
   "execution_count": 55,
   "id": "950ebf52",
   "metadata": {},
   "outputs": [],
   "source": [
    "glass_svm = svm(glass_x_train, glass_y_train, glass_x_test, glass_y_test, svm_par)"
   ]
  },
  {
   "cell_type": "code",
   "execution_count": 56,
   "id": "ecee7722",
   "metadata": {},
   "outputs": [],
   "source": [
    "simg_svm = svm(simg_x_train, simg_y_train, simg_x_test, simg_y_test, svm_par)"
   ]
  },
  {
   "cell_type": "code",
   "execution_count": 57,
   "id": "356b26cb",
   "metadata": {},
   "outputs": [],
   "source": [
    "lm_svm = svm(lm_x_train, lm_y_train, lm_x_test, lm_y_test, svm_par)"
   ]
  },
  {
   "cell_type": "code",
   "execution_count": 58,
   "id": "2ac3c39b",
   "metadata": {},
   "outputs": [],
   "source": [
    "svm_results = [iris_svm, wine_svm, hman_svm, glass_svm, simg_svm, lm_svm]"
   ]
  },
  {
   "cell_type": "code",
   "execution_count": 59,
   "id": "2e413348",
   "metadata": {},
   "outputs": [],
   "source": [
    "svm_df = pd.DataFrame({\n",
    "    'Datasets' : [],\n",
    "    'Best Parameters' : [],\n",
    "    'Accuracy' : [],\n",
    "    'f1 Score' : [],\n",
    "    'Execution Time' : []\n",
    "})"
   ]
  },
  {
   "cell_type": "code",
   "execution_count": 60,
   "id": "ad614ad0",
   "metadata": {},
   "outputs": [],
   "source": [
    "for i in range(0, len(svm_results)):\n",
    "    svm_df = svm_df.append({\n",
    "        'Datasets' : Datasets[i],\n",
    "        'Best Parameters' : svm_results[i][0],\n",
    "        'Accuracy' : svm_results[i][2],\n",
    "        'f1 Score' : svm_results[i][3],\n",
    "        'Execution Time' : svm_results[i][4]\n",
    "    }, ignore_index = True\n",
    "    )"
   ]
  },
  {
   "cell_type": "code",
   "execution_count": 61,
   "id": "314f807a",
   "metadata": {},
   "outputs": [
    {
     "data": {
      "text/html": [
       "<div>\n",
       "<style scoped>\n",
       "    .dataframe tbody tr th:only-of-type {\n",
       "        vertical-align: middle;\n",
       "    }\n",
       "\n",
       "    .dataframe tbody tr th {\n",
       "        vertical-align: top;\n",
       "    }\n",
       "\n",
       "    .dataframe thead th {\n",
       "        text-align: right;\n",
       "    }\n",
       "</style>\n",
       "<table border=\"1\" class=\"dataframe\">\n",
       "  <thead>\n",
       "    <tr style=\"text-align: right;\">\n",
       "      <th></th>\n",
       "      <th>Datasets</th>\n",
       "      <th>Best Parameters</th>\n",
       "      <th>Accuracy</th>\n",
       "      <th>f1 Score</th>\n",
       "      <th>Execution Time</th>\n",
       "    </tr>\n",
       "  </thead>\n",
       "  <tbody>\n",
       "    <tr>\n",
       "      <th>0</th>\n",
       "      <td>iris</td>\n",
       "      <td>{'C': 0.1, 'degree': 3, 'gamma': 'scale', 'ker...</td>\n",
       "      <td>1.000000</td>\n",
       "      <td>1.000000</td>\n",
       "      <td>0.961534</td>\n",
       "    </tr>\n",
       "    <tr>\n",
       "      <th>1</th>\n",
       "      <td>wine</td>\n",
       "      <td>{'C': 10.0, 'kernel': 'linear'}</td>\n",
       "      <td>0.981481</td>\n",
       "      <td>0.981575</td>\n",
       "      <td>0.902641</td>\n",
       "    </tr>\n",
       "    <tr>\n",
       "      <th>2</th>\n",
       "      <td>haberman</td>\n",
       "      <td>{'C': 10.0, 'gamma': 'auto', 'kernel': 'rbf'}</td>\n",
       "      <td>0.706522</td>\n",
       "      <td>0.627258</td>\n",
       "      <td>323.526112</td>\n",
       "    </tr>\n",
       "    <tr>\n",
       "      <th>3</th>\n",
       "      <td>glass</td>\n",
       "      <td>{'C': 10.0, 'degree': 4, 'gamma': 'scale', 'ke...</td>\n",
       "      <td>0.646154</td>\n",
       "      <td>0.647832</td>\n",
       "      <td>0.858612</td>\n",
       "    </tr>\n",
       "    <tr>\n",
       "      <th>4</th>\n",
       "      <td>satellite_image</td>\n",
       "      <td>{'C': 10.0, 'gamma': 'scale', 'kernel': 'rbf'}</td>\n",
       "      <td>0.897462</td>\n",
       "      <td>0.896341</td>\n",
       "      <td>160.840894</td>\n",
       "    </tr>\n",
       "    <tr>\n",
       "      <th>5</th>\n",
       "      <td>libras_move</td>\n",
       "      <td>{'C': 10.0, 'gamma': 'scale', 'kernel': 'rbf'}</td>\n",
       "      <td>0.879630</td>\n",
       "      <td>0.884631</td>\n",
       "      <td>1.881840</td>\n",
       "    </tr>\n",
       "  </tbody>\n",
       "</table>\n",
       "</div>"
      ],
      "text/plain": [
       "          Datasets                                    Best Parameters  \\\n",
       "0             iris  {'C': 0.1, 'degree': 3, 'gamma': 'scale', 'ker...   \n",
       "1             wine                    {'C': 10.0, 'kernel': 'linear'}   \n",
       "2         haberman      {'C': 10.0, 'gamma': 'auto', 'kernel': 'rbf'}   \n",
       "3            glass  {'C': 10.0, 'degree': 4, 'gamma': 'scale', 'ke...   \n",
       "4  satellite_image     {'C': 10.0, 'gamma': 'scale', 'kernel': 'rbf'}   \n",
       "5      libras_move     {'C': 10.0, 'gamma': 'scale', 'kernel': 'rbf'}   \n",
       "\n",
       "   Accuracy  f1 Score  Execution Time  \n",
       "0  1.000000  1.000000        0.961534  \n",
       "1  0.981481  0.981575        0.902641  \n",
       "2  0.706522  0.627258      323.526112  \n",
       "3  0.646154  0.647832        0.858612  \n",
       "4  0.897462  0.896341      160.840894  \n",
       "5  0.879630  0.884631        1.881840  "
      ]
     },
     "execution_count": 61,
     "metadata": {},
     "output_type": "execute_result"
    }
   ],
   "source": [
    "svm_df"
   ]
  },
  {
   "cell_type": "code",
   "execution_count": 62,
   "id": "bcf4a8ec",
   "metadata": {},
   "outputs": [],
   "source": [
    "svm_df.to_csv('SVM_Results.csv')"
   ]
  },
  {
   "cell_type": "code",
   "execution_count": null,
   "id": "dd476b59",
   "metadata": {},
   "outputs": [],
   "source": []
  },
  {
   "cell_type": "markdown",
   "id": "784de069",
   "metadata": {},
   "source": [
    "## AdaBoost"
   ]
  },
  {
   "cell_type": "code",
   "execution_count": 98,
   "id": "72c97bba",
   "metadata": {},
   "outputs": [],
   "source": [
    "ada_par = {\n",
    "    'n_estimators' : [10, 30, 50, 100],\n",
    "    'learning_rate' : [0.01, 0.1, 1.0],\n",
    "    'algorithm' : ['SAMME.R', 'SAMME']\n",
    "}"
   ]
  },
  {
   "cell_type": "code",
   "execution_count": 99,
   "id": "22ab22ce",
   "metadata": {},
   "outputs": [],
   "source": [
    "def ada (x_train, y_train, x_test, y_test, parameter) :\n",
    "    start_time = time.time()\n",
    "    ADA = AdaBoostClassifier()\n",
    "    ada_grid = GridSearchCV(ADA, parameter, refit = True, n_jobs=-1, cv=5)\n",
    "    ada_grid.fit(x_train, y_train)\n",
    "    opt_par = ada_grid.best_params_\n",
    "    pred = ada_grid.predict(x_test)\n",
    "    accuracy = accuracy_score (y_test, pred)\n",
    "    f1score = f1_score(y_test, pred, average = 'weighted')\n",
    "    execution_time = time.time() - start_time\n",
    "    return opt_par, pred, accuracy, f1score, execution_time"
   ]
  },
  {
   "cell_type": "code",
   "execution_count": 100,
   "id": "b308d783",
   "metadata": {},
   "outputs": [],
   "source": [
    "iris_ada = ada(iris_x_train, iris_y_train, iris_x_test, iris_y_test, ada_par)"
   ]
  },
  {
   "cell_type": "code",
   "execution_count": 101,
   "id": "f133e532",
   "metadata": {},
   "outputs": [],
   "source": [
    "wine_ada = ada(wine_x_train, wine_y_train, wine_x_test, wine_y_test, ada_par)"
   ]
  },
  {
   "cell_type": "code",
   "execution_count": 102,
   "id": "6b6fe74f",
   "metadata": {},
   "outputs": [],
   "source": [
    "hman_ada = ada(hman_x_train, hman_y_train, hman_x_test, hman_y_test, ada_par)"
   ]
  },
  {
   "cell_type": "code",
   "execution_count": 103,
   "id": "0f04fc5a",
   "metadata": {},
   "outputs": [],
   "source": [
    "glass_ada = ada(glass_x_train, glass_y_train, glass_x_test, glass_y_test, ada_par)"
   ]
  },
  {
   "cell_type": "code",
   "execution_count": 104,
   "id": "28e5a639",
   "metadata": {},
   "outputs": [],
   "source": [
    "simg_ada = ada(simg_x_train, simg_y_train, simg_x_test, simg_y_test, ada_par)"
   ]
  },
  {
   "cell_type": "code",
   "execution_count": 105,
   "id": "be3c77a4",
   "metadata": {},
   "outputs": [],
   "source": [
    "lm_ada = ada(lm_x_train, lm_y_train, lm_x_test, lm_y_test, ada_par)"
   ]
  },
  {
   "cell_type": "code",
   "execution_count": 106,
   "id": "fd244675",
   "metadata": {},
   "outputs": [],
   "source": [
    "ada_results = [iris_ada, wine_ada, hman_ada, glass_ada, simg_ada, lm_ada]"
   ]
  },
  {
   "cell_type": "code",
   "execution_count": 107,
   "id": "6f0970e5",
   "metadata": {},
   "outputs": [],
   "source": [
    "ada_df = pd.DataFrame({\n",
    "    'Datasets' : [],\n",
    "    'Best Parameters' : [],\n",
    "    'Accuracy' : [],\n",
    "    'f1 Score' : [],\n",
    "    'Execution Time' : []\n",
    "})"
   ]
  },
  {
   "cell_type": "code",
   "execution_count": 108,
   "id": "f7fe1d61",
   "metadata": {},
   "outputs": [],
   "source": [
    "for i in range(0, len(ada_results)):\n",
    "    ada_df = ada_df.append({\n",
    "        'Datasets' : Datasets[i],\n",
    "        'Best Parameters' : ada_results[i][0],\n",
    "        'Accuracy' : ada_results[i][2],\n",
    "        'f1 Score' : ada_results[i][3],\n",
    "        'Execution Time' : ada_results[i][4]\n",
    "    }, ignore_index = True\n",
    "    )"
   ]
  },
  {
   "cell_type": "code",
   "execution_count": 109,
   "id": "3897f2dc",
   "metadata": {},
   "outputs": [
    {
     "data": {
      "text/html": [
       "<div>\n",
       "<style scoped>\n",
       "    .dataframe tbody tr th:only-of-type {\n",
       "        vertical-align: middle;\n",
       "    }\n",
       "\n",
       "    .dataframe tbody tr th {\n",
       "        vertical-align: top;\n",
       "    }\n",
       "\n",
       "    .dataframe thead th {\n",
       "        text-align: right;\n",
       "    }\n",
       "</style>\n",
       "<table border=\"1\" class=\"dataframe\">\n",
       "  <thead>\n",
       "    <tr style=\"text-align: right;\">\n",
       "      <th></th>\n",
       "      <th>Datasets</th>\n",
       "      <th>Best Parameters</th>\n",
       "      <th>Accuracy</th>\n",
       "      <th>f1 Score</th>\n",
       "      <th>Execution Time</th>\n",
       "    </tr>\n",
       "  </thead>\n",
       "  <tbody>\n",
       "    <tr>\n",
       "      <th>0</th>\n",
       "      <td>iris</td>\n",
       "      <td>{'algorithm': 'SAMME.R', 'learning_rate': 1.0,...</td>\n",
       "      <td>1.000000</td>\n",
       "      <td>1.000000</td>\n",
       "      <td>7.914716</td>\n",
       "    </tr>\n",
       "    <tr>\n",
       "      <th>1</th>\n",
       "      <td>wine</td>\n",
       "      <td>{'algorithm': 'SAMME', 'learning_rate': 1.0, '...</td>\n",
       "      <td>0.962963</td>\n",
       "      <td>0.962594</td>\n",
       "      <td>7.213979</td>\n",
       "    </tr>\n",
       "    <tr>\n",
       "      <th>2</th>\n",
       "      <td>haberman</td>\n",
       "      <td>{'algorithm': 'SAMME', 'learning_rate': 1.0, '...</td>\n",
       "      <td>0.739130</td>\n",
       "      <td>0.717260</td>\n",
       "      <td>6.736976</td>\n",
       "    </tr>\n",
       "    <tr>\n",
       "      <th>3</th>\n",
       "      <td>glass</td>\n",
       "      <td>{'algorithm': 'SAMME', 'learning_rate': 1.0, '...</td>\n",
       "      <td>0.553846</td>\n",
       "      <td>0.530994</td>\n",
       "      <td>6.877263</td>\n",
       "    </tr>\n",
       "    <tr>\n",
       "      <th>4</th>\n",
       "      <td>satellite_image</td>\n",
       "      <td>{'algorithm': 'SAMME', 'learning_rate': 0.1, '...</td>\n",
       "      <td>0.781978</td>\n",
       "      <td>0.737011</td>\n",
       "      <td>31.457042</td>\n",
       "    </tr>\n",
       "    <tr>\n",
       "      <th>5</th>\n",
       "      <td>libras_move</td>\n",
       "      <td>{'algorithm': 'SAMME.R', 'learning_rate': 0.1,...</td>\n",
       "      <td>0.444444</td>\n",
       "      <td>0.405470</td>\n",
       "      <td>15.839632</td>\n",
       "    </tr>\n",
       "  </tbody>\n",
       "</table>\n",
       "</div>"
      ],
      "text/plain": [
       "          Datasets                                    Best Parameters  \\\n",
       "0             iris  {'algorithm': 'SAMME.R', 'learning_rate': 1.0,...   \n",
       "1             wine  {'algorithm': 'SAMME', 'learning_rate': 1.0, '...   \n",
       "2         haberman  {'algorithm': 'SAMME', 'learning_rate': 1.0, '...   \n",
       "3            glass  {'algorithm': 'SAMME', 'learning_rate': 1.0, '...   \n",
       "4  satellite_image  {'algorithm': 'SAMME', 'learning_rate': 0.1, '...   \n",
       "5      libras_move  {'algorithm': 'SAMME.R', 'learning_rate': 0.1,...   \n",
       "\n",
       "   Accuracy  f1 Score  Execution Time  \n",
       "0  1.000000  1.000000        7.914716  \n",
       "1  0.962963  0.962594        7.213979  \n",
       "2  0.739130  0.717260        6.736976  \n",
       "3  0.553846  0.530994        6.877263  \n",
       "4  0.781978  0.737011       31.457042  \n",
       "5  0.444444  0.405470       15.839632  "
      ]
     },
     "execution_count": 109,
     "metadata": {},
     "output_type": "execute_result"
    }
   ],
   "source": [
    "ada_df"
   ]
  },
  {
   "cell_type": "code",
   "execution_count": 110,
   "id": "a5109bdf",
   "metadata": {},
   "outputs": [],
   "source": [
    "ada_df.to_csv('ADA_Results.csv')"
   ]
  },
  {
   "cell_type": "code",
   "execution_count": null,
   "id": "5eb6690e",
   "metadata": {},
   "outputs": [],
   "source": []
  },
  {
   "cell_type": "markdown",
   "id": "55e25150",
   "metadata": {},
   "source": [
    "## Gradient Boosting"
   ]
  },
  {
   "cell_type": "code",
   "execution_count": 22,
   "id": "c2b755c8",
   "metadata": {},
   "outputs": [],
   "source": [
    "gb_par = {\n",
    "   'max_depth' :[3,5,7],\n",
    "   'n_estimators' : [10, 50, 100],\n",
    "   'learning_rate' : [0.01, 0.1, 1.0],\n",
    "   'min_samples_split' : [2, 3, 5], \n",
    "   'min_samples_leaf' : [1, 2],\n",
    "   'max_features' : ['sqrt', 'log2']\n",
    "}"
   ]
  },
  {
   "cell_type": "code",
   "execution_count": 23,
   "id": "90f294d2",
   "metadata": {},
   "outputs": [],
   "source": [
    "def gb (x_train, y_train, x_test, y_test, parameter) :\n",
    "    start_time = time.time()\n",
    "    GB = GradientBoostingClassifier()\n",
    "    gb_grid = GridSearchCV(GB, parameter, refit = True, n_jobs=-1, cv=5)\n",
    "    gb_grid.fit(x_train, y_train)\n",
    "    opt_par = gb_grid.best_params_\n",
    "    pred = gb_grid.predict(x_test)\n",
    "    accuracy = accuracy_score (y_test, pred)\n",
    "    f1score = f1_score(y_test, pred, average = 'weighted')\n",
    "    execution_time = time.time() - start_time\n",
    "    return opt_par, pred, accuracy, f1score, execution_time"
   ]
  },
  {
   "cell_type": "code",
   "execution_count": 24,
   "id": "a473a8d1",
   "metadata": {},
   "outputs": [],
   "source": [
    "iris_gb = gb(iris_x_train, iris_y_train, iris_x_test, iris_y_test, gb_par)"
   ]
  },
  {
   "cell_type": "code",
   "execution_count": 25,
   "id": "33935196",
   "metadata": {},
   "outputs": [],
   "source": [
    "wine_gb = gb(wine_x_train, wine_y_train, wine_x_test, wine_y_test, gb_par)"
   ]
  },
  {
   "cell_type": "code",
   "execution_count": 26,
   "id": "a26c0935",
   "metadata": {},
   "outputs": [],
   "source": [
    "hman_gb = gb(hman_x_train, hman_y_train, hman_x_test, hman_y_test, gb_par)"
   ]
  },
  {
   "cell_type": "code",
   "execution_count": 27,
   "id": "7d6cafa1",
   "metadata": {},
   "outputs": [],
   "source": [
    "glass_gb = gb(glass_x_train, glass_y_train, glass_x_test, glass_y_test, gb_par)"
   ]
  },
  {
   "cell_type": "code",
   "execution_count": 28,
   "id": "bc48bc95",
   "metadata": {},
   "outputs": [],
   "source": [
    "simg_gb = gb(simg_x_train, simg_y_train, simg_x_test, simg_y_test, gb_par)"
   ]
  },
  {
   "cell_type": "code",
   "execution_count": 29,
   "id": "20cbb203",
   "metadata": {},
   "outputs": [],
   "source": [
    "lm_gb = gb(lm_x_train, lm_y_train, lm_x_test, lm_y_test, gb_par)"
   ]
  },
  {
   "cell_type": "code",
   "execution_count": 30,
   "id": "a3f12776",
   "metadata": {},
   "outputs": [],
   "source": [
    "gb_results = [iris_gb, wine_gb, hman_gb, glass_gb, simg_gb, lm_gb]"
   ]
  },
  {
   "cell_type": "code",
   "execution_count": 31,
   "id": "5fa5211f",
   "metadata": {},
   "outputs": [],
   "source": [
    "gb_df = pd.DataFrame({\n",
    "    'Datasets' : [],\n",
    "    'Best Parameters' : [],\n",
    "    'Accuracy' : [],\n",
    "    'f1 Score' : [],\n",
    "    'Execution Time' : []\n",
    "})"
   ]
  },
  {
   "cell_type": "code",
   "execution_count": 32,
   "id": "70d65049",
   "metadata": {},
   "outputs": [],
   "source": [
    "for i in range(0, len(gb_results)):\n",
    "    gb_df = gb_df.append({\n",
    "        'Datasets' : Datasets[i],\n",
    "        'Best Parameters' : gb_results[i][0],\n",
    "        'Accuracy' : gb_results[i][2],\n",
    "        'f1 Score' : gb_results[i][3],\n",
    "        'Execution Time' : gb_results[i][4]\n",
    "    }, ignore_index = True\n",
    "    )"
   ]
  },
  {
   "cell_type": "code",
   "execution_count": 33,
   "id": "80a543ac",
   "metadata": {},
   "outputs": [
    {
     "data": {
      "text/html": [
       "<div>\n",
       "<style scoped>\n",
       "    .dataframe tbody tr th:only-of-type {\n",
       "        vertical-align: middle;\n",
       "    }\n",
       "\n",
       "    .dataframe tbody tr th {\n",
       "        vertical-align: top;\n",
       "    }\n",
       "\n",
       "    .dataframe thead th {\n",
       "        text-align: right;\n",
       "    }\n",
       "</style>\n",
       "<table border=\"1\" class=\"dataframe\">\n",
       "  <thead>\n",
       "    <tr style=\"text-align: right;\">\n",
       "      <th></th>\n",
       "      <th>Datasets</th>\n",
       "      <th>Best Parameters</th>\n",
       "      <th>Accuracy</th>\n",
       "      <th>f1 Score</th>\n",
       "      <th>Execution Time</th>\n",
       "    </tr>\n",
       "  </thead>\n",
       "  <tbody>\n",
       "    <tr>\n",
       "      <th>0</th>\n",
       "      <td>iris</td>\n",
       "      <td>{'learning_rate': 0.01, 'max_depth': 3, 'max_f...</td>\n",
       "      <td>1.000000</td>\n",
       "      <td>1.000000</td>\n",
       "      <td>275.720570</td>\n",
       "    </tr>\n",
       "    <tr>\n",
       "      <th>1</th>\n",
       "      <td>wine</td>\n",
       "      <td>{'learning_rate': 0.01, 'max_depth': 5, 'max_f...</td>\n",
       "      <td>1.000000</td>\n",
       "      <td>1.000000</td>\n",
       "      <td>278.863936</td>\n",
       "    </tr>\n",
       "    <tr>\n",
       "      <th>2</th>\n",
       "      <td>haberman</td>\n",
       "      <td>{'learning_rate': 0.1, 'max_depth': 5, 'max_fe...</td>\n",
       "      <td>0.739130</td>\n",
       "      <td>0.695260</td>\n",
       "      <td>118.705158</td>\n",
       "    </tr>\n",
       "    <tr>\n",
       "      <th>3</th>\n",
       "      <td>glass</td>\n",
       "      <td>{'learning_rate': 0.1, 'max_depth': 7, 'max_fe...</td>\n",
       "      <td>0.738462</td>\n",
       "      <td>0.745244</td>\n",
       "      <td>418.980913</td>\n",
       "    </tr>\n",
       "    <tr>\n",
       "      <th>4</th>\n",
       "      <td>satellite_image</td>\n",
       "      <td>{'learning_rate': 0.1, 'max_depth': 7, 'max_fe...</td>\n",
       "      <td>0.917141</td>\n",
       "      <td>0.916052</td>\n",
       "      <td>2262.287341</td>\n",
       "    </tr>\n",
       "    <tr>\n",
       "      <th>5</th>\n",
       "      <td>libras_move</td>\n",
       "      <td>{'learning_rate': 0.1, 'max_depth': 7, 'max_fe...</td>\n",
       "      <td>0.750000</td>\n",
       "      <td>0.749441</td>\n",
       "      <td>1483.449080</td>\n",
       "    </tr>\n",
       "  </tbody>\n",
       "</table>\n",
       "</div>"
      ],
      "text/plain": [
       "          Datasets                                    Best Parameters  \\\n",
       "0             iris  {'learning_rate': 0.01, 'max_depth': 3, 'max_f...   \n",
       "1             wine  {'learning_rate': 0.01, 'max_depth': 5, 'max_f...   \n",
       "2         haberman  {'learning_rate': 0.1, 'max_depth': 5, 'max_fe...   \n",
       "3            glass  {'learning_rate': 0.1, 'max_depth': 7, 'max_fe...   \n",
       "4  satellite_image  {'learning_rate': 0.1, 'max_depth': 7, 'max_fe...   \n",
       "5      libras_move  {'learning_rate': 0.1, 'max_depth': 7, 'max_fe...   \n",
       "\n",
       "   Accuracy  f1 Score  Execution Time  \n",
       "0  1.000000  1.000000      275.720570  \n",
       "1  1.000000  1.000000      278.863936  \n",
       "2  0.739130  0.695260      118.705158  \n",
       "3  0.738462  0.745244      418.980913  \n",
       "4  0.917141  0.916052     2262.287341  \n",
       "5  0.750000  0.749441     1483.449080  "
      ]
     },
     "execution_count": 33,
     "metadata": {},
     "output_type": "execute_result"
    }
   ],
   "source": [
    "gb_df"
   ]
  },
  {
   "cell_type": "code",
   "execution_count": 34,
   "id": "7a8f594c",
   "metadata": {},
   "outputs": [],
   "source": [
    "gb_df.to_csv('GB_Results.csv')"
   ]
  },
  {
   "cell_type": "code",
   "execution_count": null,
   "id": "741b7d62",
   "metadata": {},
   "outputs": [],
   "source": []
  }
 ],
 "metadata": {
  "kernelspec": {
   "display_name": "Python 3",
   "language": "python",
   "name": "python3"
  },
  "language_info": {
   "codemirror_mode": {
    "name": "ipython",
    "version": 3
   },
   "file_extension": ".py",
   "mimetype": "text/x-python",
   "name": "python",
   "nbconvert_exporter": "python",
   "pygments_lexer": "ipython3",
   "version": "3.8.8"
  }
 },
 "nbformat": 4,
 "nbformat_minor": 5
}
